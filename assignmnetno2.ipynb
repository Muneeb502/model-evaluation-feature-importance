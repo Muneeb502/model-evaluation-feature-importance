{
 "cells": [
  {
   "cell_type": "markdown",
   "id": "bd790902-90a1-43dc-941e-64ef00273b28",
   "metadata": {},
   "source": [
    "# $$ ASSIGNMENT - 2 $$"
   ]
  },
  {
   "cell_type": "markdown",
   "id": "a2d3be97-b0ed-4888-9bea-fae12842f49d",
   "metadata": {},
   "source": [
    "# Importing Libraries"
   ]
  },
  {
   "cell_type": "code",
   "execution_count": 22,
   "id": "53e5505a-a00c-4093-a262-4bfdfc850888",
   "metadata": {},
   "outputs": [],
   "source": [
    "from sklearn.neural_network import MLPRegressor\n",
    "from sklearn.metrics import mean_squared_error\n",
    "from sklearn.ensemble import RandomForestRegressor\n",
    "from sklearn.preprocessing import StandardScaler, OneHotEncoder\n",
    "from sklearn.linear_model import Ridge\n",
    "import numpy as np\n",
    "import pandas as pd\n",
    "from sklearn.compose import ColumnTransformer\n",
    "from sklearn.linear_model import Lasso\n",
    "from sklearn.linear_model import LinearRegression\n",
    "from sklearn.pipeline import Pipeline\n",
    "from sklearn.metrics import mean_squared_error"
   ]
  },
  {
   "cell_type": "code",
   "execution_count": 64,
   "id": "07a41666-c241-4136-8aac-3894384f6033",
   "metadata": {},
   "outputs": [],
   "source": [
    "import matplotlib.pyplot as plt"
   ]
  },
  {
   "cell_type": "markdown",
   "id": "055976b2-a7f3-43f3-b0bc-34eebc15bfd4",
   "metadata": {},
   "source": [
    "# Loading CSV Files\n",
    "- train_data\n",
    "- test_data\n",
    "- varDescription"
   ]
  },
  {
   "cell_type": "code",
   "execution_count": 23,
   "id": "22e84fb7-5081-4ee7-a3ec-7f2fd40533f9",
   "metadata": {},
   "outputs": [],
   "source": [
    "train_data = pd.read_csv('trainData.csv')\n",
    "test_data = pd.read_csv('testData.csv')"
   ]
  },
  {
   "cell_type": "markdown",
   "id": "397e94df-9c28-4572-9972-b2976192758e",
   "metadata": {},
   "source": [
    "# $$TASK -1 $$"
   ]
  },
  {
   "cell_type": "markdown",
   "id": "1e208fe5-867a-4995-8187-4b6b266d2392",
   "metadata": {},
   "source": [
    "### Cleaning $$TRAIN-DATA$$"
   ]
  },
  {
   "cell_type": "code",
   "execution_count": 24,
   "id": "c8511d6c-490f-4fcb-aa1a-a7760114f464",
   "metadata": {},
   "outputs": [
    {
     "data": {
      "text/plain": [
       "Index(['id', 'member_id', 'loan_amnt', 'int_rate', 'installment', 'grade',\n",
       "       'emp_length', 'home_ownership', 'annual_inc', 'loan_status', 'dti',\n",
       "       'delinq_2yrs', 'inq_last_6mths', 'mths_since_last_delinq', 'open_acc',\n",
       "       'pub_rec', 'revol_bal', 'revol_util', 'total_acc', 'total_pymnt',\n",
       "       'total_pymnt_inv', 'total_rec_prncp', 'total_rec_int',\n",
       "       'total_rec_late_fee', 'recoveries', 'collection_recovery_fee',\n",
       "       'last_pymnt_amnt', 'collections_12_mths_ex_med', 'application_type',\n",
       "       'acc_now_delinq', 'tot_coll_amt', 'tot_cur_bal', 'total_rev_hi_lim'],\n",
       "      dtype='object')"
      ]
     },
     "execution_count": 24,
     "metadata": {},
     "output_type": "execute_result"
    }
   ],
   "source": [
    "train_data.columns"
   ]
  },
  {
   "cell_type": "code",
   "execution_count": 25,
   "id": "3c51bdd8-734c-406b-91c3-9192309f4d80",
   "metadata": {},
   "outputs": [
    {
     "data": {
      "text/plain": [
       "(226067, 33)"
      ]
     },
     "execution_count": 25,
     "metadata": {},
     "output_type": "execute_result"
    }
   ],
   "source": [
    "train_data.shape"
   ]
  },
  {
   "cell_type": "code",
   "execution_count": 26,
   "id": "2d773b0e-203d-431d-967a-23dec0e6daf2",
   "metadata": {},
   "outputs": [
    {
     "name": "stdout",
     "output_type": "stream",
     "text": [
      "<class 'pandas.core.frame.DataFrame'>\n",
      "RangeIndex: 226067 entries, 0 to 226066\n",
      "Data columns (total 33 columns):\n",
      " #   Column                      Non-Null Count   Dtype  \n",
      "---  ------                      --------------   -----  \n",
      " 0   id                          0 non-null       float64\n",
      " 1   member_id                   0 non-null       float64\n",
      " 2   loan_amnt                   226067 non-null  int64  \n",
      " 3   int_rate                    226067 non-null  float64\n",
      " 4   installment                 226067 non-null  float64\n",
      " 5   grade                       226067 non-null  object \n",
      " 6   emp_length                  211456 non-null  object \n",
      " 7   home_ownership              226067 non-null  object \n",
      " 8   annual_inc                  226067 non-null  float64\n",
      " 9   loan_status                 226067 non-null  object \n",
      " 10  dti                         225887 non-null  float64\n",
      " 11  delinq_2yrs                 226062 non-null  float64\n",
      " 12  inq_last_6mths              226062 non-null  float64\n",
      " 13  mths_since_last_delinq      110227 non-null  float64\n",
      " 14  open_acc                    226062 non-null  float64\n",
      " 15  pub_rec                     226062 non-null  float64\n",
      " 16  revol_bal                   226067 non-null  int64  \n",
      " 17  revol_util                  225877 non-null  float64\n",
      " 18  total_acc                   226062 non-null  float64\n",
      " 19  total_pymnt                 226067 non-null  float64\n",
      " 20  total_pymnt_inv             226067 non-null  float64\n",
      " 21  total_rec_prncp             226067 non-null  float64\n",
      " 22  total_rec_int               226067 non-null  float64\n",
      " 23  total_rec_late_fee          226067 non-null  float64\n",
      " 24  recoveries                  226067 non-null  float64\n",
      " 25  collection_recovery_fee     226067 non-null  float64\n",
      " 26  last_pymnt_amnt             226067 non-null  float64\n",
      " 27  collections_12_mths_ex_med  226051 non-null  float64\n",
      " 28  application_type            226067 non-null  object \n",
      " 29  acc_now_delinq              226062 non-null  float64\n",
      " 30  tot_coll_amt                218960 non-null  float64\n",
      " 31  tot_cur_bal                 218960 non-null  float64\n",
      " 32  total_rev_hi_lim            218960 non-null  float64\n",
      "dtypes: float64(26), int64(2), object(5)\n",
      "memory usage: 56.9+ MB\n"
     ]
    }
   ],
   "source": [
    "train_data.info()"
   ]
  },
  {
   "cell_type": "code",
   "execution_count": 27,
   "id": "9addc5c9-7142-41ea-9317-3b6ac6033feb",
   "metadata": {},
   "outputs": [
    {
     "data": {
      "text/plain": [
       "id                            100.000000\n",
       "member_id                     100.000000\n",
       "loan_amnt                       0.000000\n",
       "int_rate                        0.000000\n",
       "installment                     0.000000\n",
       "grade                           0.000000\n",
       "emp_length                      6.463128\n",
       "home_ownership                  0.000000\n",
       "annual_inc                      0.000000\n",
       "loan_status                     0.000000\n",
       "dti                             0.079622\n",
       "delinq_2yrs                     0.002212\n",
       "inq_last_6mths                  0.002212\n",
       "mths_since_last_delinq         51.241446\n",
       "open_acc                        0.002212\n",
       "pub_rec                         0.002212\n",
       "revol_bal                       0.000000\n",
       "revol_util                      0.084046\n",
       "total_acc                       0.002212\n",
       "total_pymnt                     0.000000\n",
       "total_pymnt_inv                 0.000000\n",
       "total_rec_prncp                 0.000000\n",
       "total_rec_int                   0.000000\n",
       "total_rec_late_fee              0.000000\n",
       "recoveries                      0.000000\n",
       "collection_recovery_fee         0.000000\n",
       "last_pymnt_amnt                 0.000000\n",
       "collections_12_mths_ex_med      0.007078\n",
       "application_type                0.000000\n",
       "acc_now_delinq                  0.002212\n",
       "tot_coll_amt                    3.143758\n",
       "tot_cur_bal                     3.143758\n",
       "total_rev_hi_lim                3.143758\n",
       "dtype: float64"
      ]
     },
     "execution_count": 27,
     "metadata": {},
     "output_type": "execute_result"
    }
   ],
   "source": [
    "(train_data.isnull().sum()/train_data.shape[0])*100"
   ]
  },
  {
   "cell_type": "code",
   "execution_count": 28,
   "id": "5605bf38-bea4-4917-ab19-961dfaccf1d9",
   "metadata": {},
   "outputs": [],
   "source": [
    "train_data = train_data.drop([\"id\",\"member_id\",\"mths_since_last_delinq\"],axis=1)"
   ]
  },
  {
   "cell_type": "code",
   "execution_count": 29,
   "id": "f3985abb-7cdc-42f4-9ba8-3ed9cc6f2e14",
   "metadata": {},
   "outputs": [
    {
     "data": {
      "text/plain": [
       "loan_status\n",
       "Fully Paid                                             104143\n",
       "Current                                                 91999\n",
       "Charged Off                                             26102\n",
       "Late (31-120 days)                                       2215\n",
       "In Grace Period                                           955\n",
       "Late (16-30 days)                                         386\n",
       "Does not meet the credit policy. Status:Fully Paid        201\n",
       "Does not meet the credit policy. Status:Charged Off        60\n",
       "Default                                                     6\n",
       "Name: count, dtype: int64"
      ]
     },
     "execution_count": 29,
     "metadata": {},
     "output_type": "execute_result"
    }
   ],
   "source": [
    "train_data[\"loan_status\"].value_counts()"
   ]
  },
  {
   "cell_type": "code",
   "execution_count": 30,
   "id": "ad5aab01-fcb7-40fb-8bb9-45235e09d5dc",
   "metadata": {},
   "outputs": [
    {
     "data": {
      "text/html": [
       "<div>\n",
       "<style scoped>\n",
       "    .dataframe tbody tr th:only-of-type {\n",
       "        vertical-align: middle;\n",
       "    }\n",
       "\n",
       "    .dataframe tbody tr th {\n",
       "        vertical-align: top;\n",
       "    }\n",
       "\n",
       "    .dataframe thead th {\n",
       "        text-align: right;\n",
       "    }\n",
       "</style>\n",
       "<table border=\"1\" class=\"dataframe\">\n",
       "  <thead>\n",
       "    <tr style=\"text-align: right;\">\n",
       "      <th></th>\n",
       "      <th>loan_amnt</th>\n",
       "      <th>int_rate</th>\n",
       "      <th>installment</th>\n",
       "      <th>grade</th>\n",
       "      <th>emp_length</th>\n",
       "      <th>home_ownership</th>\n",
       "      <th>annual_inc</th>\n",
       "      <th>loan_status</th>\n",
       "      <th>dti</th>\n",
       "      <th>delinq_2yrs</th>\n",
       "      <th>...</th>\n",
       "      <th>recoveries</th>\n",
       "      <th>collection_recovery_fee</th>\n",
       "      <th>last_pymnt_amnt</th>\n",
       "      <th>collections_12_mths_ex_med</th>\n",
       "      <th>application_type</th>\n",
       "      <th>acc_now_delinq</th>\n",
       "      <th>tot_coll_amt</th>\n",
       "      <th>tot_cur_bal</th>\n",
       "      <th>total_rev_hi_lim</th>\n",
       "      <th>y</th>\n",
       "    </tr>\n",
       "  </thead>\n",
       "  <tbody>\n",
       "    <tr>\n",
       "      <th>0</th>\n",
       "      <td>18600</td>\n",
       "      <td>10.99</td>\n",
       "      <td>608.86</td>\n",
       "      <td>B</td>\n",
       "      <td>6 years</td>\n",
       "      <td>RENT</td>\n",
       "      <td>80000.0</td>\n",
       "      <td>Fully Paid</td>\n",
       "      <td>12.92</td>\n",
       "      <td>0.0</td>\n",
       "      <td>...</td>\n",
       "      <td>0.0</td>\n",
       "      <td>0.0</td>\n",
       "      <td>15705.09</td>\n",
       "      <td>0.0</td>\n",
       "      <td>Individual</td>\n",
       "      <td>0.0</td>\n",
       "      <td>0.0</td>\n",
       "      <td>170238.0</td>\n",
       "      <td>20700.0</td>\n",
       "      <td>0</td>\n",
       "    </tr>\n",
       "    <tr>\n",
       "      <th>1</th>\n",
       "      <td>2000</td>\n",
       "      <td>17.97</td>\n",
       "      <td>72.28</td>\n",
       "      <td>D</td>\n",
       "      <td>4 years</td>\n",
       "      <td>MORTGAGE</td>\n",
       "      <td>55400.0</td>\n",
       "      <td>Current</td>\n",
       "      <td>10.62</td>\n",
       "      <td>1.0</td>\n",
       "      <td>...</td>\n",
       "      <td>0.0</td>\n",
       "      <td>0.0</td>\n",
       "      <td>72.28</td>\n",
       "      <td>0.0</td>\n",
       "      <td>Joint App</td>\n",
       "      <td>0.0</td>\n",
       "      <td>74.0</td>\n",
       "      <td>351452.0</td>\n",
       "      <td>10800.0</td>\n",
       "      <td>0</td>\n",
       "    </tr>\n",
       "  </tbody>\n",
       "</table>\n",
       "<p>2 rows × 31 columns</p>\n",
       "</div>"
      ],
      "text/plain": [
       "   loan_amnt  int_rate  installment grade emp_length home_ownership  \\\n",
       "0      18600     10.99       608.86     B    6 years           RENT   \n",
       "1       2000     17.97        72.28     D    4 years       MORTGAGE   \n",
       "\n",
       "   annual_inc loan_status    dti  delinq_2yrs  ...  recoveries  \\\n",
       "0     80000.0  Fully Paid  12.92          0.0  ...         0.0   \n",
       "1     55400.0     Current  10.62          1.0  ...         0.0   \n",
       "\n",
       "   collection_recovery_fee  last_pymnt_amnt  collections_12_mths_ex_med  \\\n",
       "0                      0.0         15705.09                         0.0   \n",
       "1                      0.0            72.28                         0.0   \n",
       "\n",
       "   application_type  acc_now_delinq  tot_coll_amt  tot_cur_bal  \\\n",
       "0        Individual             0.0           0.0     170238.0   \n",
       "1         Joint App             0.0          74.0     351452.0   \n",
       "\n",
       "   total_rev_hi_lim  y  \n",
       "0           20700.0  0  \n",
       "1           10800.0  0  \n",
       "\n",
       "[2 rows x 31 columns]"
      ]
     },
     "execution_count": 30,
     "metadata": {},
     "output_type": "execute_result"
    }
   ],
   "source": [
    "train_data[\"y\"] =train_data[\"loan_status\"].apply(lambda x : 1 if x == \"Charged Off\" else 0 )\n",
    "train_data.head(2)"
   ]
  },
  {
   "cell_type": "code",
   "execution_count": 31,
   "id": "1a80d9a7-46d3-4a44-b295-6ed74b8e6027",
   "metadata": {},
   "outputs": [],
   "source": [
    "train_data = train_data.drop(\"loan_status\" , axis=1)"
   ]
  },
  {
   "cell_type": "code",
   "execution_count": 32,
   "id": "b94702f9-f651-406c-90c6-cb30db128591",
   "metadata": {},
   "outputs": [
    {
     "data": {
      "text/html": [
       "<div>\n",
       "<style scoped>\n",
       "    .dataframe tbody tr th:only-of-type {\n",
       "        vertical-align: middle;\n",
       "    }\n",
       "\n",
       "    .dataframe tbody tr th {\n",
       "        vertical-align: top;\n",
       "    }\n",
       "\n",
       "    .dataframe thead th {\n",
       "        text-align: right;\n",
       "    }\n",
       "</style>\n",
       "<table border=\"1\" class=\"dataframe\">\n",
       "  <thead>\n",
       "    <tr style=\"text-align: right;\">\n",
       "      <th></th>\n",
       "      <th>loan_amnt</th>\n",
       "      <th>int_rate</th>\n",
       "      <th>installment</th>\n",
       "      <th>grade</th>\n",
       "      <th>emp_length</th>\n",
       "      <th>home_ownership</th>\n",
       "      <th>annual_inc</th>\n",
       "      <th>dti</th>\n",
       "      <th>delinq_2yrs</th>\n",
       "      <th>inq_last_6mths</th>\n",
       "      <th>...</th>\n",
       "      <th>recoveries</th>\n",
       "      <th>collection_recovery_fee</th>\n",
       "      <th>last_pymnt_amnt</th>\n",
       "      <th>collections_12_mths_ex_med</th>\n",
       "      <th>application_type</th>\n",
       "      <th>acc_now_delinq</th>\n",
       "      <th>tot_coll_amt</th>\n",
       "      <th>tot_cur_bal</th>\n",
       "      <th>total_rev_hi_lim</th>\n",
       "      <th>y</th>\n",
       "    </tr>\n",
       "  </thead>\n",
       "  <tbody>\n",
       "    <tr>\n",
       "      <th>0</th>\n",
       "      <td>18600</td>\n",
       "      <td>10.99</td>\n",
       "      <td>608.86</td>\n",
       "      <td>B</td>\n",
       "      <td>6 years</td>\n",
       "      <td>RENT</td>\n",
       "      <td>80000.0</td>\n",
       "      <td>12.92</td>\n",
       "      <td>0.0</td>\n",
       "      <td>0.0</td>\n",
       "      <td>...</td>\n",
       "      <td>0.0</td>\n",
       "      <td>0.0</td>\n",
       "      <td>15705.09</td>\n",
       "      <td>0.0</td>\n",
       "      <td>Individual</td>\n",
       "      <td>0.0</td>\n",
       "      <td>0.0</td>\n",
       "      <td>170238.0</td>\n",
       "      <td>20700.0</td>\n",
       "      <td>0</td>\n",
       "    </tr>\n",
       "    <tr>\n",
       "      <th>1</th>\n",
       "      <td>2000</td>\n",
       "      <td>17.97</td>\n",
       "      <td>72.28</td>\n",
       "      <td>D</td>\n",
       "      <td>4 years</td>\n",
       "      <td>MORTGAGE</td>\n",
       "      <td>55400.0</td>\n",
       "      <td>10.62</td>\n",
       "      <td>1.0</td>\n",
       "      <td>2.0</td>\n",
       "      <td>...</td>\n",
       "      <td>0.0</td>\n",
       "      <td>0.0</td>\n",
       "      <td>72.28</td>\n",
       "      <td>0.0</td>\n",
       "      <td>Joint App</td>\n",
       "      <td>0.0</td>\n",
       "      <td>74.0</td>\n",
       "      <td>351452.0</td>\n",
       "      <td>10800.0</td>\n",
       "      <td>0</td>\n",
       "    </tr>\n",
       "  </tbody>\n",
       "</table>\n",
       "<p>2 rows × 30 columns</p>\n",
       "</div>"
      ],
      "text/plain": [
       "   loan_amnt  int_rate  installment grade emp_length home_ownership  \\\n",
       "0      18600     10.99       608.86     B    6 years           RENT   \n",
       "1       2000     17.97        72.28     D    4 years       MORTGAGE   \n",
       "\n",
       "   annual_inc    dti  delinq_2yrs  inq_last_6mths  ...  recoveries  \\\n",
       "0     80000.0  12.92          0.0             0.0  ...         0.0   \n",
       "1     55400.0  10.62          1.0             2.0  ...         0.0   \n",
       "\n",
       "   collection_recovery_fee  last_pymnt_amnt  collections_12_mths_ex_med  \\\n",
       "0                      0.0         15705.09                         0.0   \n",
       "1                      0.0            72.28                         0.0   \n",
       "\n",
       "   application_type  acc_now_delinq  tot_coll_amt  tot_cur_bal  \\\n",
       "0        Individual             0.0           0.0     170238.0   \n",
       "1         Joint App             0.0          74.0     351452.0   \n",
       "\n",
       "   total_rev_hi_lim  y  \n",
       "0           20700.0  0  \n",
       "1           10800.0  0  \n",
       "\n",
       "[2 rows x 30 columns]"
      ]
     },
     "execution_count": 32,
     "metadata": {},
     "output_type": "execute_result"
    }
   ],
   "source": [
    "train_data.head(2)"
   ]
  },
  {
   "cell_type": "code",
   "execution_count": 33,
   "id": "06bff68c-6e84-4fc8-be08-c20c64ebe414",
   "metadata": {},
   "outputs": [
    {
     "data": {
      "text/html": [
       "<div>\n",
       "<style scoped>\n",
       "    .dataframe tbody tr th:only-of-type {\n",
       "        vertical-align: middle;\n",
       "    }\n",
       "\n",
       "    .dataframe tbody tr th {\n",
       "        vertical-align: top;\n",
       "    }\n",
       "\n",
       "    .dataframe thead th {\n",
       "        text-align: right;\n",
       "    }\n",
       "</style>\n",
       "<table border=\"1\" class=\"dataframe\">\n",
       "  <thead>\n",
       "    <tr style=\"text-align: right;\">\n",
       "      <th></th>\n",
       "      <th>loan_amnt</th>\n",
       "      <th>int_rate</th>\n",
       "      <th>installment</th>\n",
       "      <th>annual_inc</th>\n",
       "      <th>dti</th>\n",
       "      <th>delinq_2yrs</th>\n",
       "      <th>inq_last_6mths</th>\n",
       "      <th>open_acc</th>\n",
       "      <th>pub_rec</th>\n",
       "      <th>revol_bal</th>\n",
       "      <th>...</th>\n",
       "      <th>total_rec_late_fee</th>\n",
       "      <th>recoveries</th>\n",
       "      <th>collection_recovery_fee</th>\n",
       "      <th>last_pymnt_amnt</th>\n",
       "      <th>collections_12_mths_ex_med</th>\n",
       "      <th>acc_now_delinq</th>\n",
       "      <th>tot_coll_amt</th>\n",
       "      <th>tot_cur_bal</th>\n",
       "      <th>total_rev_hi_lim</th>\n",
       "      <th>y</th>\n",
       "    </tr>\n",
       "  </thead>\n",
       "  <tbody>\n",
       "    <tr>\n",
       "      <th>0</th>\n",
       "      <td>18600</td>\n",
       "      <td>10.99</td>\n",
       "      <td>608.86</td>\n",
       "      <td>80000.0</td>\n",
       "      <td>12.92</td>\n",
       "      <td>0.0</td>\n",
       "      <td>0.0</td>\n",
       "      <td>8.0</td>\n",
       "      <td>0.0</td>\n",
       "      <td>13999</td>\n",
       "      <td>...</td>\n",
       "      <td>0.0</td>\n",
       "      <td>0.0</td>\n",
       "      <td>0.0</td>\n",
       "      <td>15705.09</td>\n",
       "      <td>0.0</td>\n",
       "      <td>0.0</td>\n",
       "      <td>0.0</td>\n",
       "      <td>170238.0</td>\n",
       "      <td>20700.0</td>\n",
       "      <td>0</td>\n",
       "    </tr>\n",
       "    <tr>\n",
       "      <th>1</th>\n",
       "      <td>2000</td>\n",
       "      <td>17.97</td>\n",
       "      <td>72.28</td>\n",
       "      <td>55400.0</td>\n",
       "      <td>10.62</td>\n",
       "      <td>1.0</td>\n",
       "      <td>2.0</td>\n",
       "      <td>10.0</td>\n",
       "      <td>0.0</td>\n",
       "      <td>6524</td>\n",
       "      <td>...</td>\n",
       "      <td>0.0</td>\n",
       "      <td>0.0</td>\n",
       "      <td>0.0</td>\n",
       "      <td>72.28</td>\n",
       "      <td>0.0</td>\n",
       "      <td>0.0</td>\n",
       "      <td>74.0</td>\n",
       "      <td>351452.0</td>\n",
       "      <td>10800.0</td>\n",
       "      <td>0</td>\n",
       "    </tr>\n",
       "    <tr>\n",
       "      <th>2</th>\n",
       "      <td>12000</td>\n",
       "      <td>12.29</td>\n",
       "      <td>400.24</td>\n",
       "      <td>60000.0</td>\n",
       "      <td>17.92</td>\n",
       "      <td>0.0</td>\n",
       "      <td>0.0</td>\n",
       "      <td>14.0</td>\n",
       "      <td>0.0</td>\n",
       "      <td>14670</td>\n",
       "      <td>...</td>\n",
       "      <td>0.0</td>\n",
       "      <td>0.0</td>\n",
       "      <td>0.0</td>\n",
       "      <td>11281.15</td>\n",
       "      <td>0.0</td>\n",
       "      <td>0.0</td>\n",
       "      <td>0.0</td>\n",
       "      <td>18207.0</td>\n",
       "      <td>20600.0</td>\n",
       "      <td>0</td>\n",
       "    </tr>\n",
       "  </tbody>\n",
       "</table>\n",
       "<p>3 rows × 26 columns</p>\n",
       "</div>"
      ],
      "text/plain": [
       "   loan_amnt  int_rate  installment  annual_inc    dti  delinq_2yrs  \\\n",
       "0      18600     10.99       608.86     80000.0  12.92          0.0   \n",
       "1       2000     17.97        72.28     55400.0  10.62          1.0   \n",
       "2      12000     12.29       400.24     60000.0  17.92          0.0   \n",
       "\n",
       "   inq_last_6mths  open_acc  pub_rec  revol_bal  ...  total_rec_late_fee  \\\n",
       "0             0.0       8.0      0.0      13999  ...                 0.0   \n",
       "1             2.0      10.0      0.0       6524  ...                 0.0   \n",
       "2             0.0      14.0      0.0      14670  ...                 0.0   \n",
       "\n",
       "   recoveries  collection_recovery_fee  last_pymnt_amnt  \\\n",
       "0         0.0                      0.0         15705.09   \n",
       "1         0.0                      0.0            72.28   \n",
       "2         0.0                      0.0         11281.15   \n",
       "\n",
       "   collections_12_mths_ex_med  acc_now_delinq  tot_coll_amt  tot_cur_bal  \\\n",
       "0                         0.0             0.0           0.0     170238.0   \n",
       "1                         0.0             0.0          74.0     351452.0   \n",
       "2                         0.0             0.0           0.0      18207.0   \n",
       "\n",
       "   total_rev_hi_lim  y  \n",
       "0           20700.0  0  \n",
       "1           10800.0  0  \n",
       "2           20600.0  0  \n",
       "\n",
       "[3 rows x 26 columns]"
      ]
     },
     "execution_count": 33,
     "metadata": {},
     "output_type": "execute_result"
    }
   ],
   "source": [
    "num_train = train_data.select_dtypes(exclude=['object'])\n",
    "num_train.head(3)"
   ]
  },
  {
   "cell_type": "code",
   "execution_count": 34,
   "id": "4e8a89b9-8860-4389-8464-dc4589d3ae40",
   "metadata": {},
   "outputs": [
    {
     "data": {
      "text/html": [
       "<div>\n",
       "<style scoped>\n",
       "    .dataframe tbody tr th:only-of-type {\n",
       "        vertical-align: middle;\n",
       "    }\n",
       "\n",
       "    .dataframe tbody tr th {\n",
       "        vertical-align: top;\n",
       "    }\n",
       "\n",
       "    .dataframe thead th {\n",
       "        text-align: right;\n",
       "    }\n",
       "</style>\n",
       "<table border=\"1\" class=\"dataframe\">\n",
       "  <thead>\n",
       "    <tr style=\"text-align: right;\">\n",
       "      <th></th>\n",
       "      <th>grade</th>\n",
       "      <th>emp_length</th>\n",
       "      <th>home_ownership</th>\n",
       "      <th>application_type</th>\n",
       "    </tr>\n",
       "  </thead>\n",
       "  <tbody>\n",
       "    <tr>\n",
       "      <th>0</th>\n",
       "      <td>B</td>\n",
       "      <td>6 years</td>\n",
       "      <td>RENT</td>\n",
       "      <td>Individual</td>\n",
       "    </tr>\n",
       "    <tr>\n",
       "      <th>1</th>\n",
       "      <td>D</td>\n",
       "      <td>4 years</td>\n",
       "      <td>MORTGAGE</td>\n",
       "      <td>Joint App</td>\n",
       "    </tr>\n",
       "    <tr>\n",
       "      <th>2</th>\n",
       "      <td>C</td>\n",
       "      <td>10+ years</td>\n",
       "      <td>OWN</td>\n",
       "      <td>Individual</td>\n",
       "    </tr>\n",
       "  </tbody>\n",
       "</table>\n",
       "</div>"
      ],
      "text/plain": [
       "  grade emp_length home_ownership application_type\n",
       "0     B    6 years           RENT       Individual\n",
       "1     D    4 years       MORTGAGE        Joint App\n",
       "2     C  10+ years            OWN       Individual"
      ]
     },
     "execution_count": 34,
     "metadata": {},
     "output_type": "execute_result"
    }
   ],
   "source": [
    "cat_train = train_data.select_dtypes(include=['object'])\n",
    "cat_train.head(3)"
   ]
  },
  {
   "cell_type": "code",
   "execution_count": 42,
   "id": "1137e8f3-65bf-43a1-8e39-d5cc53584e0e",
   "metadata": {},
   "outputs": [
    {
     "data": {
      "text/plain": [
       "grade               0.000000\n",
       "emp_length          6.463128\n",
       "home_ownership      0.000000\n",
       "application_type    0.000000\n",
       "dtype: float64"
      ]
     },
     "execution_count": 42,
     "metadata": {},
     "output_type": "execute_result"
    }
   ],
   "source": [
    "(cat_train.isnull().sum()/cat_train.shape[0])*100"
   ]
  },
  {
   "cell_type": "code",
   "execution_count": 45,
   "id": "2ad2e27d-cbd8-4342-8c84-bd85d02d5946",
   "metadata": {},
   "outputs": [],
   "source": [
    "cat_train[\"emp_length\"] = cat_train[\"emp_length\"].fillna(cat_train[\"emp_length\"].mode()[0])"
   ]
  },
  {
   "cell_type": "code",
   "execution_count": 46,
   "id": "cc53eb0d-6cea-41f7-a8ce-8b822c0d9856",
   "metadata": {},
   "outputs": [
    {
     "data": {
      "text/plain": [
       "grade\n",
       "B    66392\n",
       "C    65196\n",
       "A    43206\n",
       "D    32286\n",
       "E    13593\n",
       "F     4190\n",
       "G     1204\n",
       "Name: count, dtype: int64"
      ]
     },
     "execution_count": 46,
     "metadata": {},
     "output_type": "execute_result"
    }
   ],
   "source": [
    "cat_train[\"grade\"].value_counts()"
   ]
  },
  {
   "cell_type": "code",
   "execution_count": 47,
   "id": "25fabf5b-1c7a-4bc1-afbf-32709b47efd1",
   "metadata": {},
   "outputs": [
    {
     "data": {
      "text/plain": [
       "emp_length\n",
       "10+ years    89424\n",
       "2 years      20289\n",
       "< 1 year     19011\n",
       "3 years      18104\n",
       "1 year       14939\n",
       "5 years      14190\n",
       "4 years      13575\n",
       "6 years      10295\n",
       "7 years       9206\n",
       "8 years       9092\n",
       "9 years       7942\n",
       "Name: count, dtype: int64"
      ]
     },
     "execution_count": 47,
     "metadata": {},
     "output_type": "execute_result"
    }
   ],
   "source": [
    "cat_train[\"emp_length\"].value_counts()"
   ]
  },
  {
   "cell_type": "code",
   "execution_count": 53,
   "id": "8b6df9ac-aeb9-4bb1-b362-2c2be172fd7f",
   "metadata": {},
   "outputs": [
    {
     "data": {
      "text/plain": [
       "home_ownership\n",
       "MORTGAGE    111249\n",
       "RENT         89614\n",
       "OWN          25079\n",
       "ANY            100\n",
       "OTHER           18\n",
       "NONE             7\n",
       "Name: count, dtype: int64"
      ]
     },
     "execution_count": 53,
     "metadata": {},
     "output_type": "execute_result"
    }
   ],
   "source": [
    "cat_train[\"home_ownership\"].value_counts()"
   ]
  },
  {
   "cell_type": "code",
   "execution_count": 57,
   "id": "b65fb92e-e49f-4cdf-856e-624f48411bda",
   "metadata": {},
   "outputs": [],
   "source": [
    "cat_train[\"home_ownership\"] = cat_train[\"home_ownership\"].apply(lambda x: \"OTHER\" if x == \"NONE\" else x )"
   ]
  },
  {
   "cell_type": "code",
   "execution_count": 58,
   "id": "8fb01525-8b49-46c1-b4e9-5799238518a0",
   "metadata": {},
   "outputs": [
    {
     "data": {
      "text/plain": [
       "home_ownership\n",
       "MORTGAGE    111249\n",
       "RENT         89614\n",
       "OWN          25079\n",
       "ANY            100\n",
       "OTHER           25\n",
       "Name: count, dtype: int64"
      ]
     },
     "execution_count": 58,
     "metadata": {},
     "output_type": "execute_result"
    }
   ],
   "source": [
    "cat_train[\"home_ownership\"].value_counts()"
   ]
  },
  {
   "cell_type": "code",
   "execution_count": 49,
   "id": "fc37f3cb-70b6-4f78-9974-19654c6be10a",
   "metadata": {},
   "outputs": [
    {
     "data": {
      "text/plain": [
       "application_type\n",
       "Individual    214066\n",
       "Joint App      12001\n",
       "Name: count, dtype: int64"
      ]
     },
     "execution_count": 49,
     "metadata": {},
     "output_type": "execute_result"
    }
   ],
   "source": [
    "cat_train[\"application_type\"].value_counts()"
   ]
  },
  {
   "cell_type": "code",
   "execution_count": 62,
   "id": "db94fb36-6984-425c-bf23-b3b150aee8cd",
   "metadata": {},
   "outputs": [
    {
     "data": {
      "text/html": [
       "<div>\n",
       "<style scoped>\n",
       "    .dataframe tbody tr th:only-of-type {\n",
       "        vertical-align: middle;\n",
       "    }\n",
       "\n",
       "    .dataframe tbody tr th {\n",
       "        vertical-align: top;\n",
       "    }\n",
       "\n",
       "    .dataframe thead th {\n",
       "        text-align: right;\n",
       "    }\n",
       "</style>\n",
       "<table border=\"1\" class=\"dataframe\">\n",
       "  <thead>\n",
       "    <tr style=\"text-align: right;\">\n",
       "      <th></th>\n",
       "      <th>grade_A</th>\n",
       "      <th>grade_B</th>\n",
       "      <th>grade_C</th>\n",
       "      <th>grade_D</th>\n",
       "      <th>grade_E</th>\n",
       "      <th>grade_F</th>\n",
       "      <th>grade_G</th>\n",
       "      <th>emp_length_1 year</th>\n",
       "      <th>emp_length_10+ years</th>\n",
       "      <th>emp_length_2 years</th>\n",
       "      <th>...</th>\n",
       "      <th>emp_length_8 years</th>\n",
       "      <th>emp_length_9 years</th>\n",
       "      <th>emp_length_&lt; 1 year</th>\n",
       "      <th>home_ownership_ANY</th>\n",
       "      <th>home_ownership_MORTGAGE</th>\n",
       "      <th>home_ownership_OTHER</th>\n",
       "      <th>home_ownership_OWN</th>\n",
       "      <th>home_ownership_RENT</th>\n",
       "      <th>application_type_Individual</th>\n",
       "      <th>application_type_Joint App</th>\n",
       "    </tr>\n",
       "  </thead>\n",
       "  <tbody>\n",
       "    <tr>\n",
       "      <th>0</th>\n",
       "      <td>0</td>\n",
       "      <td>1</td>\n",
       "      <td>0</td>\n",
       "      <td>0</td>\n",
       "      <td>0</td>\n",
       "      <td>0</td>\n",
       "      <td>0</td>\n",
       "      <td>0</td>\n",
       "      <td>0</td>\n",
       "      <td>0</td>\n",
       "      <td>...</td>\n",
       "      <td>0</td>\n",
       "      <td>0</td>\n",
       "      <td>0</td>\n",
       "      <td>0</td>\n",
       "      <td>0</td>\n",
       "      <td>0</td>\n",
       "      <td>0</td>\n",
       "      <td>1</td>\n",
       "      <td>1</td>\n",
       "      <td>0</td>\n",
       "    </tr>\n",
       "    <tr>\n",
       "      <th>1</th>\n",
       "      <td>0</td>\n",
       "      <td>0</td>\n",
       "      <td>0</td>\n",
       "      <td>1</td>\n",
       "      <td>0</td>\n",
       "      <td>0</td>\n",
       "      <td>0</td>\n",
       "      <td>0</td>\n",
       "      <td>0</td>\n",
       "      <td>0</td>\n",
       "      <td>...</td>\n",
       "      <td>0</td>\n",
       "      <td>0</td>\n",
       "      <td>0</td>\n",
       "      <td>0</td>\n",
       "      <td>1</td>\n",
       "      <td>0</td>\n",
       "      <td>0</td>\n",
       "      <td>0</td>\n",
       "      <td>0</td>\n",
       "      <td>1</td>\n",
       "    </tr>\n",
       "  </tbody>\n",
       "</table>\n",
       "<p>2 rows × 25 columns</p>\n",
       "</div>"
      ],
      "text/plain": [
       "   grade_A  grade_B  grade_C  grade_D  grade_E  grade_F  grade_G  \\\n",
       "0        0        1        0        0        0        0        0   \n",
       "1        0        0        0        1        0        0        0   \n",
       "\n",
       "   emp_length_1 year  emp_length_10+ years  emp_length_2 years  ...  \\\n",
       "0                  0                     0                   0  ...   \n",
       "1                  0                     0                   0  ...   \n",
       "\n",
       "   emp_length_8 years  emp_length_9 years  emp_length_< 1 year  \\\n",
       "0                   0                   0                    0   \n",
       "1                   0                   0                    0   \n",
       "\n",
       "   home_ownership_ANY  home_ownership_MORTGAGE  home_ownership_OTHER  \\\n",
       "0                   0                        0                     0   \n",
       "1                   0                        1                     0   \n",
       "\n",
       "   home_ownership_OWN  home_ownership_RENT  application_type_Individual  \\\n",
       "0                   0                    1                            1   \n",
       "1                   0                    0                            0   \n",
       "\n",
       "   application_type_Joint App  \n",
       "0                           0  \n",
       "1                           1  \n",
       "\n",
       "[2 rows x 25 columns]"
      ]
     },
     "execution_count": 62,
     "metadata": {},
     "output_type": "execute_result"
    }
   ],
   "source": [
    "new_cat_train = pd.get_dummies(cat_train).astype(int)\n",
    "new_cat_train.head(2)"
   ]
  },
  {
   "cell_type": "code",
   "execution_count": 63,
   "id": "af520d1d-14d7-43c3-b8b8-1e42f5609da6",
   "metadata": {},
   "outputs": [
    {
     "data": {
      "text/html": [
       "<div>\n",
       "<style scoped>\n",
       "    .dataframe tbody tr th:only-of-type {\n",
       "        vertical-align: middle;\n",
       "    }\n",
       "\n",
       "    .dataframe tbody tr th {\n",
       "        vertical-align: top;\n",
       "    }\n",
       "\n",
       "    .dataframe thead th {\n",
       "        text-align: right;\n",
       "    }\n",
       "</style>\n",
       "<table border=\"1\" class=\"dataframe\">\n",
       "  <thead>\n",
       "    <tr style=\"text-align: right;\">\n",
       "      <th></th>\n",
       "      <th>loan_amnt</th>\n",
       "      <th>int_rate</th>\n",
       "      <th>installment</th>\n",
       "      <th>annual_inc</th>\n",
       "      <th>dti</th>\n",
       "      <th>delinq_2yrs</th>\n",
       "      <th>inq_last_6mths</th>\n",
       "      <th>open_acc</th>\n",
       "      <th>pub_rec</th>\n",
       "      <th>revol_bal</th>\n",
       "      <th>...</th>\n",
       "      <th>total_rec_late_fee</th>\n",
       "      <th>recoveries</th>\n",
       "      <th>collection_recovery_fee</th>\n",
       "      <th>last_pymnt_amnt</th>\n",
       "      <th>collections_12_mths_ex_med</th>\n",
       "      <th>acc_now_delinq</th>\n",
       "      <th>tot_coll_amt</th>\n",
       "      <th>tot_cur_bal</th>\n",
       "      <th>total_rev_hi_lim</th>\n",
       "      <th>y</th>\n",
       "    </tr>\n",
       "  </thead>\n",
       "  <tbody>\n",
       "    <tr>\n",
       "      <th>0</th>\n",
       "      <td>18600</td>\n",
       "      <td>10.99</td>\n",
       "      <td>608.86</td>\n",
       "      <td>80000.0</td>\n",
       "      <td>12.92</td>\n",
       "      <td>0.0</td>\n",
       "      <td>0.0</td>\n",
       "      <td>8.0</td>\n",
       "      <td>0.0</td>\n",
       "      <td>13999</td>\n",
       "      <td>...</td>\n",
       "      <td>0.0</td>\n",
       "      <td>0.0</td>\n",
       "      <td>0.0</td>\n",
       "      <td>15705.09</td>\n",
       "      <td>0.0</td>\n",
       "      <td>0.0</td>\n",
       "      <td>0.0</td>\n",
       "      <td>170238.0</td>\n",
       "      <td>20700.0</td>\n",
       "      <td>0</td>\n",
       "    </tr>\n",
       "    <tr>\n",
       "      <th>1</th>\n",
       "      <td>2000</td>\n",
       "      <td>17.97</td>\n",
       "      <td>72.28</td>\n",
       "      <td>55400.0</td>\n",
       "      <td>10.62</td>\n",
       "      <td>1.0</td>\n",
       "      <td>2.0</td>\n",
       "      <td>10.0</td>\n",
       "      <td>0.0</td>\n",
       "      <td>6524</td>\n",
       "      <td>...</td>\n",
       "      <td>0.0</td>\n",
       "      <td>0.0</td>\n",
       "      <td>0.0</td>\n",
       "      <td>72.28</td>\n",
       "      <td>0.0</td>\n",
       "      <td>0.0</td>\n",
       "      <td>74.0</td>\n",
       "      <td>351452.0</td>\n",
       "      <td>10800.0</td>\n",
       "      <td>0</td>\n",
       "    </tr>\n",
       "    <tr>\n",
       "      <th>2</th>\n",
       "      <td>12000</td>\n",
       "      <td>12.29</td>\n",
       "      <td>400.24</td>\n",
       "      <td>60000.0</td>\n",
       "      <td>17.92</td>\n",
       "      <td>0.0</td>\n",
       "      <td>0.0</td>\n",
       "      <td>14.0</td>\n",
       "      <td>0.0</td>\n",
       "      <td>14670</td>\n",
       "      <td>...</td>\n",
       "      <td>0.0</td>\n",
       "      <td>0.0</td>\n",
       "      <td>0.0</td>\n",
       "      <td>11281.15</td>\n",
       "      <td>0.0</td>\n",
       "      <td>0.0</td>\n",
       "      <td>0.0</td>\n",
       "      <td>18207.0</td>\n",
       "      <td>20600.0</td>\n",
       "      <td>0</td>\n",
       "    </tr>\n",
       "    <tr>\n",
       "      <th>3</th>\n",
       "      <td>16000</td>\n",
       "      <td>19.42</td>\n",
       "      <td>589.90</td>\n",
       "      <td>64000.0</td>\n",
       "      <td>3.90</td>\n",
       "      <td>1.0</td>\n",
       "      <td>0.0</td>\n",
       "      <td>5.0</td>\n",
       "      <td>0.0</td>\n",
       "      <td>7644</td>\n",
       "      <td>...</td>\n",
       "      <td>0.0</td>\n",
       "      <td>0.0</td>\n",
       "      <td>0.0</td>\n",
       "      <td>589.90</td>\n",
       "      <td>0.0</td>\n",
       "      <td>0.0</td>\n",
       "      <td>0.0</td>\n",
       "      <td>12293.0</td>\n",
       "      <td>7800.0</td>\n",
       "      <td>0</td>\n",
       "    </tr>\n",
       "  </tbody>\n",
       "</table>\n",
       "<p>4 rows × 26 columns</p>\n",
       "</div>"
      ],
      "text/plain": [
       "   loan_amnt  int_rate  installment  annual_inc    dti  delinq_2yrs  \\\n",
       "0      18600     10.99       608.86     80000.0  12.92          0.0   \n",
       "1       2000     17.97        72.28     55400.0  10.62          1.0   \n",
       "2      12000     12.29       400.24     60000.0  17.92          0.0   \n",
       "3      16000     19.42       589.90     64000.0   3.90          1.0   \n",
       "\n",
       "   inq_last_6mths  open_acc  pub_rec  revol_bal  ...  total_rec_late_fee  \\\n",
       "0             0.0       8.0      0.0      13999  ...                 0.0   \n",
       "1             2.0      10.0      0.0       6524  ...                 0.0   \n",
       "2             0.0      14.0      0.0      14670  ...                 0.0   \n",
       "3             0.0       5.0      0.0       7644  ...                 0.0   \n",
       "\n",
       "   recoveries  collection_recovery_fee  last_pymnt_amnt  \\\n",
       "0         0.0                      0.0         15705.09   \n",
       "1         0.0                      0.0            72.28   \n",
       "2         0.0                      0.0         11281.15   \n",
       "3         0.0                      0.0           589.90   \n",
       "\n",
       "   collections_12_mths_ex_med  acc_now_delinq  tot_coll_amt  tot_cur_bal  \\\n",
       "0                         0.0             0.0           0.0     170238.0   \n",
       "1                         0.0             0.0          74.0     351452.0   \n",
       "2                         0.0             0.0           0.0      18207.0   \n",
       "3                         0.0             0.0           0.0      12293.0   \n",
       "\n",
       "   total_rev_hi_lim  y  \n",
       "0           20700.0  0  \n",
       "1           10800.0  0  \n",
       "2           20600.0  0  \n",
       "3            7800.0  0  \n",
       "\n",
       "[4 rows x 26 columns]"
      ]
     },
     "execution_count": 63,
     "metadata": {},
     "output_type": "execute_result"
    }
   ],
   "source": [
    "num_train.head(4)"
   ]
  },
  {
   "cell_type": "code",
   "execution_count": 67,
   "id": "2373c5bd-2ab9-4926-80ad-33f9ba6b5b1e",
   "metadata": {},
   "outputs": [
    {
     "data": {
      "image/png": "[encoded data removed]",
      "text/plain": [
       "<Figure size 640x480 with 1 Axes>"
      ]
     },
     "metadata": {},
     "output_type": "display_data"
    },
    {
     "data": {
      "image/png": "[encoded data removed]",
      "text/plain": [
       "<Figure size 640x480 with 1 Axes>"
      ]
     },
     "metadata": {},
     "output_type": "display_data"
    },
    {
     "data": {
      "image/png": "[encoded data removed]",
      "text/plain": [
       "<Figure size 640x480 with 1 Axes>"
      ]
     },
     "metadata": {},
     "output_type": "display_data"
    },
    {
     "data": {
      "image/png": "[encoded data removed]",
      "text/plain": [
       "<Figure size 640x480 with 1 Axes>"
      ]
     },
     "metadata": {},
     "output_type": "display_data"
    },
    {
     "data": {
      "image/png": "[encoded data removed]",
      "text/plain": [
       "<Figure size 640x480 with 1 Axes>"
      ]
     },
     "metadata": {},
     "output_type": "display_data"
    },
    {
     "data": {
      "image/png": "[encoded data removed]",
      "text/plain": [
       "<Figure size 640x480 with 1 Axes>"
      ]
     },
     "metadata": {},
     "output_type": "display_data"
    },
    {
     "data": {
      "image/png": "[encoded data removed]",
      "text/plain": [
       "<Figure size 640x480 with 1 Axes>"
      ]
     },
     "metadata": {},
     "output_type": "display_data"
    },
    {
     "data": {
      "image/png": "[encoded data removed]",
      "text/plain": [
       "<Figure size 640x480 with 1 Axes>"
      ]
     },
     "metadata": {},
     "output_type": "display_data"
    },
    {
     "data": {
      "image/png": "[encoded data removed]",
      "text/plain": [
       "<Figure size 640x480 with 1 Axes>"
      ]
     },
     "metadata": {},
     "output_type": "display_data"
    },
    {
     "data": {
      "image/png": "[encoded data removed]",
      "text/plain": [
       "<Figure size 640x480 with 1 Axes>"
      ]
     },
     "metadata": {},
     "output_type": "display_data"
    },
    {
     "data": {
      "image/png": "[encoded data removed]",
      "text/plain": [
       "<Figure size 640x480 with 1 Axes>"
      ]
     },
     "metadata": {},
     "output_type": "display_data"
    },
    {
     "data": {
      "image/png": "[encoded data removed]",
      "text/plain": [
       "<Figure size 640x480 with 1 Axes>"
      ]
     },
     "metadata": {},
     "output_type": "display_data"
    },
    {
     "data": {
      "image/png": "[encoded data removed]",
      "text/plain": [
       "<Figure size 640x480 with 1 Axes>"
      ]
     },
     "metadata": {},
     "output_type": "display_data"
    },
    {
     "data": {
      "image/png": "[encoded data removed]",
      "text/plain": [
       "<Figure size 640x480 with 1 Axes>"
      ]
     },
     "metadata": {},
     "output_type": "display_data"
    },
    {
     "data": {
      "image/png": "[encoded data removed]",
      "text/plain": [
       "<Figure size 640x480 with 1 Axes>"
      ]
     },
     "metadata": {},
     "output_type": "display_data"
    },
    {
     "data": {
      "image/png": "[encoded data removed]",
      "text/plain": [
       "<Figure size 640x480 with 1 Axes>"
      ]
     },
     "metadata": {},
     "output_type": "display_data"
    },
    {
     "data": {
      "image/png": "[encoded data removed]",
      "text/plain": [
       "<Figure size 640x480 with 1 Axes>"
      ]
     },
     "metadata": {},
     "output_type": "display_data"
    },
    {
     "data": {
      "image/png": "[encoded data removed]",
      "text/plain": [
       "<Figure size 640x480 with 1 Axes>"
      ]
     },
     "metadata": {},
     "output_type": "display_data"
    },
    {
     "data": {
      "image/png": "[encoded data removed]",
      "text/plain": [
       "<Figure size 640x480 with 1 Axes>"
      ]
     },
     "metadata": {},
     "output_type": "display_data"
    },
    {
     "data": {
      "image/png": "[encoded data removed]",
      "text/plain": [
       "<Figure size 640x480 with 1 Axes>"
      ]
     },
     "metadata": {},
     "output_type": "display_data"
    },
    {
     "data": {
      "image/png": "[encoded data removed]",
      "text/plain": [
       "<Figure size 640x480 with 1 Axes>"
      ]
     },
     "metadata": {},
     "output_type": "display_data"
    },
    {
     "data": {
      "image/png": "[encoded data removed]",
      "text/plain": [
       "<Figure size 640x480 with 1 Axes>"
      ]
     },
     "metadata": {},
     "output_type": "display_data"
    },
    {
     "data": {
      "image/png": "[encoded data removed]",
      "text/plain": [
       "<Figure size 640x480 with 1 Axes>"
      ]
     },
     "metadata": {},
     "output_type": "display_data"
    },
    {
     "data": {
      "image/png": "[encoded data removed]",
      "text/plain": [
       "<Figure size 640x480 with 1 Axes>"
      ]
     },
     "metadata": {},
     "output_type": "display_data"
    },
    {
     "data": {
      "image/png": "[encoded data removed]",
      "text/plain": [
       "<Figure size 640x480 with 1 Axes>"
      ]
     },
     "metadata": {},
     "output_type": "display_data"
    },
    {
     "data": {
      "image/png": "[encoded data removed]",
      "text/plain": [
       "<Figure size 640x480 with 1 Axes>"
      ]
     },
     "metadata": {},
     "output_type": "display_data"
    }
   ],
   "source": [
    "for i in num_train.columns:\n",
    "      plt.boxplot(num_train[i])\n",
    "      plt.title(i)\n",
    "      plt.show()"
   ]
  },
  {
   "cell_type": "code",
   "execution_count": 69,
   "id": "02b6fbcf-7946-459f-ba37-00913343047d",
   "metadata": {},
   "outputs": [
    {
     "data": {
      "text/html": [
       "<div>\n",
       "<style scoped>\n",
       "    .dataframe tbody tr th:only-of-type {\n",
       "        vertical-align: middle;\n",
       "    }\n",
       "\n",
       "    .dataframe tbody tr th {\n",
       "        vertical-align: top;\n",
       "    }\n",
       "\n",
       "    .dataframe thead th {\n",
       "        text-align: right;\n",
       "    }\n",
       "</style>\n",
       "<table border=\"1\" class=\"dataframe\">\n",
       "  <thead>\n",
       "    <tr style=\"text-align: right;\">\n",
       "      <th></th>\n",
       "      <th>loan_amnt</th>\n",
       "      <th>int_rate</th>\n",
       "      <th>installment</th>\n",
       "      <th>annual_inc</th>\n",
       "      <th>dti</th>\n",
       "      <th>delinq_2yrs</th>\n",
       "      <th>inq_last_6mths</th>\n",
       "      <th>open_acc</th>\n",
       "      <th>pub_rec</th>\n",
       "      <th>revol_bal</th>\n",
       "      <th>...</th>\n",
       "      <th>total_rec_late_fee</th>\n",
       "      <th>recoveries</th>\n",
       "      <th>collection_recovery_fee</th>\n",
       "      <th>last_pymnt_amnt</th>\n",
       "      <th>collections_12_mths_ex_med</th>\n",
       "      <th>acc_now_delinq</th>\n",
       "      <th>tot_coll_amt</th>\n",
       "      <th>tot_cur_bal</th>\n",
       "      <th>total_rev_hi_lim</th>\n",
       "      <th>y</th>\n",
       "    </tr>\n",
       "  </thead>\n",
       "  <tbody>\n",
       "    <tr>\n",
       "      <th>0</th>\n",
       "      <td>18600</td>\n",
       "      <td>10.99</td>\n",
       "      <td>608.86</td>\n",
       "      <td>80000.00</td>\n",
       "      <td>12.92</td>\n",
       "      <td>0.0</td>\n",
       "      <td>0.0</td>\n",
       "      <td>8.0</td>\n",
       "      <td>0.0</td>\n",
       "      <td>13999</td>\n",
       "      <td>...</td>\n",
       "      <td>0.0</td>\n",
       "      <td>0.00</td>\n",
       "      <td>0.0000</td>\n",
       "      <td>15705.09</td>\n",
       "      <td>0.0</td>\n",
       "      <td>0.0</td>\n",
       "      <td>0.0</td>\n",
       "      <td>170238.0</td>\n",
       "      <td>20700.0</td>\n",
       "      <td>0</td>\n",
       "    </tr>\n",
       "    <tr>\n",
       "      <th>1</th>\n",
       "      <td>2000</td>\n",
       "      <td>17.97</td>\n",
       "      <td>72.28</td>\n",
       "      <td>55400.00</td>\n",
       "      <td>10.62</td>\n",
       "      <td>1.0</td>\n",
       "      <td>2.0</td>\n",
       "      <td>10.0</td>\n",
       "      <td>0.0</td>\n",
       "      <td>6524</td>\n",
       "      <td>...</td>\n",
       "      <td>0.0</td>\n",
       "      <td>0.00</td>\n",
       "      <td>0.0000</td>\n",
       "      <td>72.28</td>\n",
       "      <td>0.0</td>\n",
       "      <td>0.0</td>\n",
       "      <td>74.0</td>\n",
       "      <td>351452.0</td>\n",
       "      <td>10800.0</td>\n",
       "      <td>0</td>\n",
       "    </tr>\n",
       "    <tr>\n",
       "      <th>2</th>\n",
       "      <td>12000</td>\n",
       "      <td>12.29</td>\n",
       "      <td>400.24</td>\n",
       "      <td>60000.00</td>\n",
       "      <td>17.92</td>\n",
       "      <td>0.0</td>\n",
       "      <td>0.0</td>\n",
       "      <td>14.0</td>\n",
       "      <td>0.0</td>\n",
       "      <td>14670</td>\n",
       "      <td>...</td>\n",
       "      <td>0.0</td>\n",
       "      <td>0.00</td>\n",
       "      <td>0.0000</td>\n",
       "      <td>11281.15</td>\n",
       "      <td>0.0</td>\n",
       "      <td>0.0</td>\n",
       "      <td>0.0</td>\n",
       "      <td>18207.0</td>\n",
       "      <td>20600.0</td>\n",
       "      <td>0</td>\n",
       "    </tr>\n",
       "    <tr>\n",
       "      <th>3</th>\n",
       "      <td>16000</td>\n",
       "      <td>19.42</td>\n",
       "      <td>589.90</td>\n",
       "      <td>64000.00</td>\n",
       "      <td>3.90</td>\n",
       "      <td>1.0</td>\n",
       "      <td>0.0</td>\n",
       "      <td>5.0</td>\n",
       "      <td>0.0</td>\n",
       "      <td>7644</td>\n",
       "      <td>...</td>\n",
       "      <td>0.0</td>\n",
       "      <td>0.00</td>\n",
       "      <td>0.0000</td>\n",
       "      <td>589.90</td>\n",
       "      <td>0.0</td>\n",
       "      <td>0.0</td>\n",
       "      <td>0.0</td>\n",
       "      <td>12293.0</td>\n",
       "      <td>7800.0</td>\n",
       "      <td>0</td>\n",
       "    </tr>\n",
       "    <tr>\n",
       "      <th>4</th>\n",
       "      <td>22525</td>\n",
       "      <td>16.02</td>\n",
       "      <td>548.01</td>\n",
       "      <td>94080.00</td>\n",
       "      <td>19.08</td>\n",
       "      <td>1.0</td>\n",
       "      <td>0.0</td>\n",
       "      <td>15.0</td>\n",
       "      <td>0.0</td>\n",
       "      <td>20447</td>\n",
       "      <td>...</td>\n",
       "      <td>0.0</td>\n",
       "      <td>0.00</td>\n",
       "      <td>0.0000</td>\n",
       "      <td>21483.11</td>\n",
       "      <td>0.0</td>\n",
       "      <td>0.0</td>\n",
       "      <td>250.0</td>\n",
       "      <td>571244.0</td>\n",
       "      <td>53800.0</td>\n",
       "      <td>0</td>\n",
       "    </tr>\n",
       "    <tr>\n",
       "      <th>5</th>\n",
       "      <td>19000</td>\n",
       "      <td>16.99</td>\n",
       "      <td>472.10</td>\n",
       "      <td>65000.00</td>\n",
       "      <td>15.66</td>\n",
       "      <td>0.0</td>\n",
       "      <td>1.0</td>\n",
       "      <td>10.0</td>\n",
       "      <td>1.0</td>\n",
       "      <td>3557</td>\n",
       "      <td>...</td>\n",
       "      <td>0.0</td>\n",
       "      <td>1863.64</td>\n",
       "      <td>335.4552</td>\n",
       "      <td>472.10</td>\n",
       "      <td>0.0</td>\n",
       "      <td>0.0</td>\n",
       "      <td>234.0</td>\n",
       "      <td>13167.0</td>\n",
       "      <td>24600.0</td>\n",
       "      <td>1</td>\n",
       "    </tr>\n",
       "    <tr>\n",
       "      <th>6</th>\n",
       "      <td>6000</td>\n",
       "      <td>9.17</td>\n",
       "      <td>191.28</td>\n",
       "      <td>147000.00</td>\n",
       "      <td>4.00</td>\n",
       "      <td>1.0</td>\n",
       "      <td>1.0</td>\n",
       "      <td>8.0</td>\n",
       "      <td>3.0</td>\n",
       "      <td>2686</td>\n",
       "      <td>...</td>\n",
       "      <td>0.0</td>\n",
       "      <td>0.00</td>\n",
       "      <td>0.0000</td>\n",
       "      <td>152.92</td>\n",
       "      <td>0.0</td>\n",
       "      <td>0.0</td>\n",
       "      <td>381.0</td>\n",
       "      <td>2686.0</td>\n",
       "      <td>12400.0</td>\n",
       "      <td>0</td>\n",
       "    </tr>\n",
       "    <tr>\n",
       "      <th>7</th>\n",
       "      <td>17000</td>\n",
       "      <td>5.32</td>\n",
       "      <td>511.96</td>\n",
       "      <td>75000.00</td>\n",
       "      <td>7.89</td>\n",
       "      <td>0.0</td>\n",
       "      <td>0.0</td>\n",
       "      <td>8.0</td>\n",
       "      <td>0.0</td>\n",
       "      <td>195</td>\n",
       "      <td>...</td>\n",
       "      <td>0.0</td>\n",
       "      <td>0.00</td>\n",
       "      <td>0.0000</td>\n",
       "      <td>511.96</td>\n",
       "      <td>0.0</td>\n",
       "      <td>0.0</td>\n",
       "      <td>0.0</td>\n",
       "      <td>191633.0</td>\n",
       "      <td>45700.0</td>\n",
       "      <td>0</td>\n",
       "    </tr>\n",
       "    <tr>\n",
       "      <th>8</th>\n",
       "      <td>26375</td>\n",
       "      <td>24.50</td>\n",
       "      <td>766.43</td>\n",
       "      <td>71596.18</td>\n",
       "      <td>22.59</td>\n",
       "      <td>0.0</td>\n",
       "      <td>2.0</td>\n",
       "      <td>16.0</td>\n",
       "      <td>0.0</td>\n",
       "      <td>12408</td>\n",
       "      <td>...</td>\n",
       "      <td>0.0</td>\n",
       "      <td>0.00</td>\n",
       "      <td>0.0000</td>\n",
       "      <td>14426.38</td>\n",
       "      <td>0.0</td>\n",
       "      <td>0.0</td>\n",
       "      <td>510.0</td>\n",
       "      <td>273060.0</td>\n",
       "      <td>19900.0</td>\n",
       "      <td>0</td>\n",
       "    </tr>\n",
       "    <tr>\n",
       "      <th>9</th>\n",
       "      <td>10000</td>\n",
       "      <td>18.45</td>\n",
       "      <td>256.39</td>\n",
       "      <td>48000.00</td>\n",
       "      <td>28.03</td>\n",
       "      <td>0.0</td>\n",
       "      <td>1.0</td>\n",
       "      <td>33.0</td>\n",
       "      <td>0.0</td>\n",
       "      <td>5862</td>\n",
       "      <td>...</td>\n",
       "      <td>0.0</td>\n",
       "      <td>0.00</td>\n",
       "      <td>0.0000</td>\n",
       "      <td>256.39</td>\n",
       "      <td>0.0</td>\n",
       "      <td>0.0</td>\n",
       "      <td>0.0</td>\n",
       "      <td>132034.0</td>\n",
       "      <td>38100.0</td>\n",
       "      <td>0</td>\n",
       "    </tr>\n",
       "  </tbody>\n",
       "</table>\n",
       "<p>10 rows × 26 columns</p>\n",
       "</div>"
      ],
      "text/plain": [
       "   loan_amnt  int_rate  installment  annual_inc    dti  delinq_2yrs  \\\n",
       "0      18600     10.99       608.86    80000.00  12.92          0.0   \n",
       "1       2000     17.97        72.28    55400.00  10.62          1.0   \n",
       "2      12000     12.29       400.24    60000.00  17.92          0.0   \n",
       "3      16000     19.42       589.90    64000.00   3.90          1.0   \n",
       "4      22525     16.02       548.01    94080.00  19.08          1.0   \n",
       "5      19000     16.99       472.10    65000.00  15.66          0.0   \n",
       "6       6000      9.17       191.28   147000.00   4.00          1.0   \n",
       "7      17000      5.32       511.96    75000.00   7.89          0.0   \n",
       "8      26375     24.50       766.43    71596.18  22.59          0.0   \n",
       "9      10000     18.45       256.39    48000.00  28.03          0.0   \n",
       "\n",
       "   inq_last_6mths  open_acc  pub_rec  revol_bal  ...  total_rec_late_fee  \\\n",
       "0             0.0       8.0      0.0      13999  ...                 0.0   \n",
       "1             2.0      10.0      0.0       6524  ...                 0.0   \n",
       "2             0.0      14.0      0.0      14670  ...                 0.0   \n",
       "3             0.0       5.0      0.0       7644  ...                 0.0   \n",
       "4             0.0      15.0      0.0      20447  ...                 0.0   \n",
       "5             1.0      10.0      1.0       3557  ...                 0.0   \n",
       "6             1.0       8.0      3.0       2686  ...                 0.0   \n",
       "7             0.0       8.0      0.0        195  ...                 0.0   \n",
       "8             2.0      16.0      0.0      12408  ...                 0.0   \n",
       "9             1.0      33.0      0.0       5862  ...                 0.0   \n",
       "\n",
       "   recoveries  collection_recovery_fee  last_pymnt_amnt  \\\n",
       "0        0.00                   0.0000         15705.09   \n",
       "1        0.00                   0.0000            72.28   \n",
       "2        0.00                   0.0000         11281.15   \n",
       "3        0.00                   0.0000           589.90   \n",
       "4        0.00                   0.0000         21483.11   \n",
       "5     1863.64                 335.4552           472.10   \n",
       "6        0.00                   0.0000           152.92   \n",
       "7        0.00                   0.0000           511.96   \n",
       "8        0.00                   0.0000         14426.38   \n",
       "9        0.00                   0.0000           256.39   \n",
       "\n",
       "   collections_12_mths_ex_med  acc_now_delinq  tot_coll_amt  tot_cur_bal  \\\n",
       "0                         0.0             0.0           0.0     170238.0   \n",
       "1                         0.0             0.0          74.0     351452.0   \n",
       "2                         0.0             0.0           0.0      18207.0   \n",
       "3                         0.0             0.0           0.0      12293.0   \n",
       "4                         0.0             0.0         250.0     571244.0   \n",
       "5                         0.0             0.0         234.0      13167.0   \n",
       "6                         0.0             0.0         381.0       2686.0   \n",
       "7                         0.0             0.0           0.0     191633.0   \n",
       "8                         0.0             0.0         510.0     273060.0   \n",
       "9                         0.0             0.0           0.0     132034.0   \n",
       "\n",
       "   total_rev_hi_lim  y  \n",
       "0           20700.0  0  \n",
       "1           10800.0  0  \n",
       "2           20600.0  0  \n",
       "3            7800.0  0  \n",
       "4           53800.0  0  \n",
       "5           24600.0  1  \n",
       "6           12400.0  0  \n",
       "7           45700.0  0  \n",
       "8           19900.0  0  \n",
       "9           38100.0  0  \n",
       "\n",
       "[10 rows x 26 columns]"
      ]
     },
     "execution_count": 69,
     "metadata": {},
     "output_type": "execute_result"
    }
   ],
   "source": [
    "num_train.head(10)"
   ]
  },
  {
   "cell_type": "code",
   "execution_count": 77,
   "id": "9256d34d-feae-41c5-bed4-c7160d0951e2",
   "metadata": {},
   "outputs": [],
   "source": [
    "temp_data = pd.concat([num_train,new_cat_train], axis=1)"
   ]
  },
  {
   "cell_type": "code",
   "execution_count": 78,
   "id": "c0530aa4-00f6-42b9-bd95-0352c24273fb",
   "metadata": {},
   "outputs": [],
   "source": [
    "def remove_out(d,cols):\n",
    "    for i in cols:\n",
    "        q1 = d[i].quantile(0.25)\n",
    "        q3 = d[i].quantile(0.75)\n",
    "        iqr = q3 - q1\n",
    "        low = q1 - (1.5*iqr)\n",
    "        high = q3 + (1.5*iqr)\n",
    "        d = d[(d[i] >= low) & (d[i] <= high)]\n",
    "        return d"
   ]
  },
  {
   "cell_type": "code",
   "execution_count": 79,
   "id": "4a218e0d-2505-47af-9332-a398fbc5e52d",
   "metadata": {},
   "outputs": [],
   "source": [
    "combine_data = remove_out(temp_data,['loan_amnt', 'int_rate', 'installment', 'annual_inc', 'dti',\n",
    "       'delinq_2yrs', 'inq_last_6mths', 'open_acc', 'pub_rec', 'revol_bal',\n",
    "       'revol_util', 'total_acc', 'total_pymnt', 'total_pymnt_inv',\n",
    "       'total_rec_prncp', 'total_rec_int', 'total_rec_late_fee', 'recoveries',\n",
    "       'collection_recovery_fee', 'last_pymnt_amnt',\n",
    "       'collections_12_mths_ex_med', 'acc_now_delinq', 'tot_coll_amt',\n",
    "       'tot_cur_bal', 'total_rev_hi_lim', 'y'])\n"
   ]
  },
  {
   "cell_type": "code",
   "execution_count": 82,
   "id": "8b16a29b-876f-441e-8121-6ac7f7f4cc8e",
   "metadata": {},
   "outputs": [
    {
     "data": {
      "text/html": [
       "<div>\n",
       "<style scoped>\n",
       "    .dataframe tbody tr th:only-of-type {\n",
       "        vertical-align: middle;\n",
       "    }\n",
       "\n",
       "    .dataframe tbody tr th {\n",
       "        vertical-align: top;\n",
       "    }\n",
       "\n",
       "    .dataframe thead th {\n",
       "        text-align: right;\n",
       "    }\n",
       "</style>\n",
       "<table border=\"1\" class=\"dataframe\">\n",
       "  <thead>\n",
       "    <tr style=\"text-align: right;\">\n",
       "      <th></th>\n",
       "      <th>loan_amnt</th>\n",
       "      <th>int_rate</th>\n",
       "      <th>installment</th>\n",
       "      <th>annual_inc</th>\n",
       "      <th>dti</th>\n",
       "      <th>delinq_2yrs</th>\n",
       "      <th>inq_last_6mths</th>\n",
       "      <th>open_acc</th>\n",
       "      <th>pub_rec</th>\n",
       "      <th>revol_bal</th>\n",
       "      <th>...</th>\n",
       "      <th>emp_length_8 years</th>\n",
       "      <th>emp_length_9 years</th>\n",
       "      <th>emp_length_&lt; 1 year</th>\n",
       "      <th>home_ownership_ANY</th>\n",
       "      <th>home_ownership_MORTGAGE</th>\n",
       "      <th>home_ownership_OTHER</th>\n",
       "      <th>home_ownership_OWN</th>\n",
       "      <th>home_ownership_RENT</th>\n",
       "      <th>application_type_Individual</th>\n",
       "      <th>application_type_Joint App</th>\n",
       "    </tr>\n",
       "  </thead>\n",
       "  <tbody>\n",
       "    <tr>\n",
       "      <th>0</th>\n",
       "      <td>18600</td>\n",
       "      <td>10.99</td>\n",
       "      <td>608.86</td>\n",
       "      <td>80000.00</td>\n",
       "      <td>12.92</td>\n",
       "      <td>0.0</td>\n",
       "      <td>0.0</td>\n",
       "      <td>8.0</td>\n",
       "      <td>0.0</td>\n",
       "      <td>13999</td>\n",
       "      <td>...</td>\n",
       "      <td>0</td>\n",
       "      <td>0</td>\n",
       "      <td>0</td>\n",
       "      <td>0</td>\n",
       "      <td>0</td>\n",
       "      <td>0</td>\n",
       "      <td>0</td>\n",
       "      <td>1</td>\n",
       "      <td>1</td>\n",
       "      <td>0</td>\n",
       "    </tr>\n",
       "    <tr>\n",
       "      <th>1</th>\n",
       "      <td>2000</td>\n",
       "      <td>17.97</td>\n",
       "      <td>72.28</td>\n",
       "      <td>55400.00</td>\n",
       "      <td>10.62</td>\n",
       "      <td>1.0</td>\n",
       "      <td>2.0</td>\n",
       "      <td>10.0</td>\n",
       "      <td>0.0</td>\n",
       "      <td>6524</td>\n",
       "      <td>...</td>\n",
       "      <td>0</td>\n",
       "      <td>0</td>\n",
       "      <td>0</td>\n",
       "      <td>0</td>\n",
       "      <td>1</td>\n",
       "      <td>0</td>\n",
       "      <td>0</td>\n",
       "      <td>0</td>\n",
       "      <td>0</td>\n",
       "      <td>1</td>\n",
       "    </tr>\n",
       "    <tr>\n",
       "      <th>2</th>\n",
       "      <td>12000</td>\n",
       "      <td>12.29</td>\n",
       "      <td>400.24</td>\n",
       "      <td>60000.00</td>\n",
       "      <td>17.92</td>\n",
       "      <td>0.0</td>\n",
       "      <td>0.0</td>\n",
       "      <td>14.0</td>\n",
       "      <td>0.0</td>\n",
       "      <td>14670</td>\n",
       "      <td>...</td>\n",
       "      <td>0</td>\n",
       "      <td>0</td>\n",
       "      <td>0</td>\n",
       "      <td>0</td>\n",
       "      <td>0</td>\n",
       "      <td>0</td>\n",
       "      <td>1</td>\n",
       "      <td>0</td>\n",
       "      <td>1</td>\n",
       "      <td>0</td>\n",
       "    </tr>\n",
       "    <tr>\n",
       "      <th>3</th>\n",
       "      <td>16000</td>\n",
       "      <td>19.42</td>\n",
       "      <td>589.90</td>\n",
       "      <td>64000.00</td>\n",
       "      <td>3.90</td>\n",
       "      <td>1.0</td>\n",
       "      <td>0.0</td>\n",
       "      <td>5.0</td>\n",
       "      <td>0.0</td>\n",
       "      <td>7644</td>\n",
       "      <td>...</td>\n",
       "      <td>0</td>\n",
       "      <td>0</td>\n",
       "      <td>0</td>\n",
       "      <td>0</td>\n",
       "      <td>0</td>\n",
       "      <td>0</td>\n",
       "      <td>0</td>\n",
       "      <td>1</td>\n",
       "      <td>1</td>\n",
       "      <td>0</td>\n",
       "    </tr>\n",
       "    <tr>\n",
       "      <th>4</th>\n",
       "      <td>22525</td>\n",
       "      <td>16.02</td>\n",
       "      <td>548.01</td>\n",
       "      <td>94080.00</td>\n",
       "      <td>19.08</td>\n",
       "      <td>1.0</td>\n",
       "      <td>0.0</td>\n",
       "      <td>15.0</td>\n",
       "      <td>0.0</td>\n",
       "      <td>20447</td>\n",
       "      <td>...</td>\n",
       "      <td>0</td>\n",
       "      <td>0</td>\n",
       "      <td>0</td>\n",
       "      <td>0</td>\n",
       "      <td>1</td>\n",
       "      <td>0</td>\n",
       "      <td>0</td>\n",
       "      <td>0</td>\n",
       "      <td>1</td>\n",
       "      <td>0</td>\n",
       "    </tr>\n",
       "    <tr>\n",
       "      <th>5</th>\n",
       "      <td>19000</td>\n",
       "      <td>16.99</td>\n",
       "      <td>472.10</td>\n",
       "      <td>65000.00</td>\n",
       "      <td>15.66</td>\n",
       "      <td>0.0</td>\n",
       "      <td>1.0</td>\n",
       "      <td>10.0</td>\n",
       "      <td>1.0</td>\n",
       "      <td>3557</td>\n",
       "      <td>...</td>\n",
       "      <td>0</td>\n",
       "      <td>0</td>\n",
       "      <td>0</td>\n",
       "      <td>0</td>\n",
       "      <td>0</td>\n",
       "      <td>0</td>\n",
       "      <td>0</td>\n",
       "      <td>1</td>\n",
       "      <td>1</td>\n",
       "      <td>0</td>\n",
       "    </tr>\n",
       "    <tr>\n",
       "      <th>6</th>\n",
       "      <td>6000</td>\n",
       "      <td>9.17</td>\n",
       "      <td>191.28</td>\n",
       "      <td>147000.00</td>\n",
       "      <td>4.00</td>\n",
       "      <td>1.0</td>\n",
       "      <td>1.0</td>\n",
       "      <td>8.0</td>\n",
       "      <td>3.0</td>\n",
       "      <td>2686</td>\n",
       "      <td>...</td>\n",
       "      <td>0</td>\n",
       "      <td>0</td>\n",
       "      <td>0</td>\n",
       "      <td>0</td>\n",
       "      <td>0</td>\n",
       "      <td>0</td>\n",
       "      <td>1</td>\n",
       "      <td>0</td>\n",
       "      <td>1</td>\n",
       "      <td>0</td>\n",
       "    </tr>\n",
       "    <tr>\n",
       "      <th>7</th>\n",
       "      <td>17000</td>\n",
       "      <td>5.32</td>\n",
       "      <td>511.96</td>\n",
       "      <td>75000.00</td>\n",
       "      <td>7.89</td>\n",
       "      <td>0.0</td>\n",
       "      <td>0.0</td>\n",
       "      <td>8.0</td>\n",
       "      <td>0.0</td>\n",
       "      <td>195</td>\n",
       "      <td>...</td>\n",
       "      <td>0</td>\n",
       "      <td>0</td>\n",
       "      <td>0</td>\n",
       "      <td>0</td>\n",
       "      <td>1</td>\n",
       "      <td>0</td>\n",
       "      <td>0</td>\n",
       "      <td>0</td>\n",
       "      <td>1</td>\n",
       "      <td>0</td>\n",
       "    </tr>\n",
       "    <tr>\n",
       "      <th>8</th>\n",
       "      <td>26375</td>\n",
       "      <td>24.50</td>\n",
       "      <td>766.43</td>\n",
       "      <td>71596.18</td>\n",
       "      <td>22.59</td>\n",
       "      <td>0.0</td>\n",
       "      <td>2.0</td>\n",
       "      <td>16.0</td>\n",
       "      <td>0.0</td>\n",
       "      <td>12408</td>\n",
       "      <td>...</td>\n",
       "      <td>0</td>\n",
       "      <td>0</td>\n",
       "      <td>0</td>\n",
       "      <td>0</td>\n",
       "      <td>1</td>\n",
       "      <td>0</td>\n",
       "      <td>0</td>\n",
       "      <td>0</td>\n",
       "      <td>1</td>\n",
       "      <td>0</td>\n",
       "    </tr>\n",
       "    <tr>\n",
       "      <th>9</th>\n",
       "      <td>10000</td>\n",
       "      <td>18.45</td>\n",
       "      <td>256.39</td>\n",
       "      <td>48000.00</td>\n",
       "      <td>28.03</td>\n",
       "      <td>0.0</td>\n",
       "      <td>1.0</td>\n",
       "      <td>33.0</td>\n",
       "      <td>0.0</td>\n",
       "      <td>5862</td>\n",
       "      <td>...</td>\n",
       "      <td>0</td>\n",
       "      <td>0</td>\n",
       "      <td>0</td>\n",
       "      <td>0</td>\n",
       "      <td>0</td>\n",
       "      <td>0</td>\n",
       "      <td>0</td>\n",
       "      <td>1</td>\n",
       "      <td>1</td>\n",
       "      <td>0</td>\n",
       "    </tr>\n",
       "  </tbody>\n",
       "</table>\n",
       "<p>10 rows × 51 columns</p>\n",
       "</div>"
      ],
      "text/plain": [
       "   loan_amnt  int_rate  installment  annual_inc    dti  delinq_2yrs  \\\n",
       "0      18600     10.99       608.86    80000.00  12.92          0.0   \n",
       "1       2000     17.97        72.28    55400.00  10.62          1.0   \n",
       "2      12000     12.29       400.24    60000.00  17.92          0.0   \n",
       "3      16000     19.42       589.90    64000.00   3.90          1.0   \n",
       "4      22525     16.02       548.01    94080.00  19.08          1.0   \n",
       "5      19000     16.99       472.10    65000.00  15.66          0.0   \n",
       "6       6000      9.17       191.28   147000.00   4.00          1.0   \n",
       "7      17000      5.32       511.96    75000.00   7.89          0.0   \n",
       "8      26375     24.50       766.43    71596.18  22.59          0.0   \n",
       "9      10000     18.45       256.39    48000.00  28.03          0.0   \n",
       "\n",
       "   inq_last_6mths  open_acc  pub_rec  revol_bal  ...  emp_length_8 years  \\\n",
       "0             0.0       8.0      0.0      13999  ...                   0   \n",
       "1             2.0      10.0      0.0       6524  ...                   0   \n",
       "2             0.0      14.0      0.0      14670  ...                   0   \n",
       "3             0.0       5.0      0.0       7644  ...                   0   \n",
       "4             0.0      15.0      0.0      20447  ...                   0   \n",
       "5             1.0      10.0      1.0       3557  ...                   0   \n",
       "6             1.0       8.0      3.0       2686  ...                   0   \n",
       "7             0.0       8.0      0.0        195  ...                   0   \n",
       "8             2.0      16.0      0.0      12408  ...                   0   \n",
       "9             1.0      33.0      0.0       5862  ...                   0   \n",
       "\n",
       "   emp_length_9 years  emp_length_< 1 year  home_ownership_ANY  \\\n",
       "0                   0                    0                   0   \n",
       "1                   0                    0                   0   \n",
       "2                   0                    0                   0   \n",
       "3                   0                    0                   0   \n",
       "4                   0                    0                   0   \n",
       "5                   0                    0                   0   \n",
       "6                   0                    0                   0   \n",
       "7                   0                    0                   0   \n",
       "8                   0                    0                   0   \n",
       "9                   0                    0                   0   \n",
       "\n",
       "   home_ownership_MORTGAGE  home_ownership_OTHER  home_ownership_OWN  \\\n",
       "0                        0                     0                   0   \n",
       "1                        1                     0                   0   \n",
       "2                        0                     0                   1   \n",
       "3                        0                     0                   0   \n",
       "4                        1                     0                   0   \n",
       "5                        0                     0                   0   \n",
       "6                        0                     0                   1   \n",
       "7                        1                     0                   0   \n",
       "8                        1                     0                   0   \n",
       "9                        0                     0                   0   \n",
       "\n",
       "   home_ownership_RENT  application_type_Individual  \\\n",
       "0                    1                            1   \n",
       "1                    0                            0   \n",
       "2                    0                            1   \n",
       "3                    1                            1   \n",
       "4                    0                            1   \n",
       "5                    1                            1   \n",
       "6                    0                            1   \n",
       "7                    0                            1   \n",
       "8                    0                            1   \n",
       "9                    1                            1   \n",
       "\n",
       "   application_type_Joint App  \n",
       "0                           0  \n",
       "1                           1  \n",
       "2                           0  \n",
       "3                           0  \n",
       "4                           0  \n",
       "5                           0  \n",
       "6                           0  \n",
       "7                           0  \n",
       "8                           0  \n",
       "9                           0  \n",
       "\n",
       "[10 rows x 51 columns]"
      ]
     },
     "execution_count": 82,
     "metadata": {},
     "output_type": "execute_result"
    }
   ],
   "source": [
    "combine_data.head(10)"
   ]
  },
  {
   "cell_type": "code",
   "execution_count": 86,
   "id": "eedbdc8c-2783-41bf-82ac-e99214b61812",
   "metadata": {},
   "outputs": [
    {
     "data": {
      "text/html": [
       "<div>\n",
       "<style scoped>\n",
       "    .dataframe tbody tr th:only-of-type {\n",
       "        vertical-align: middle;\n",
       "    }\n",
       "\n",
       "    .dataframe tbody tr th {\n",
       "        vertical-align: top;\n",
       "    }\n",
       "\n",
       "    .dataframe thead th {\n",
       "        text-align: right;\n",
       "    }\n",
       "</style>\n",
       "<table border=\"1\" class=\"dataframe\">\n",
       "  <thead>\n",
       "    <tr style=\"text-align: right;\">\n",
       "      <th></th>\n",
       "      <th>loan_amnt</th>\n",
       "      <th>int_rate</th>\n",
       "      <th>installment</th>\n",
       "      <th>annual_inc</th>\n",
       "      <th>dti</th>\n",
       "      <th>delinq_2yrs</th>\n",
       "      <th>inq_last_6mths</th>\n",
       "      <th>open_acc</th>\n",
       "      <th>pub_rec</th>\n",
       "      <th>revol_bal</th>\n",
       "      <th>...</th>\n",
       "      <th>total_rec_int</th>\n",
       "      <th>total_rec_late_fee</th>\n",
       "      <th>recoveries</th>\n",
       "      <th>collection_recovery_fee</th>\n",
       "      <th>last_pymnt_amnt</th>\n",
       "      <th>collections_12_mths_ex_med</th>\n",
       "      <th>acc_now_delinq</th>\n",
       "      <th>tot_coll_amt</th>\n",
       "      <th>tot_cur_bal</th>\n",
       "      <th>total_rev_hi_lim</th>\n",
       "    </tr>\n",
       "  </thead>\n",
       "  <tbody>\n",
       "    <tr>\n",
       "      <th>count</th>\n",
       "      <td>222551.000000</td>\n",
       "      <td>222551.000000</td>\n",
       "      <td>222551.000000</td>\n",
       "      <td>2.225510e+05</td>\n",
       "      <td>222383.000000</td>\n",
       "      <td>222546.000000</td>\n",
       "      <td>222546.000000</td>\n",
       "      <td>222546.000000</td>\n",
       "      <td>222546.000000</td>\n",
       "      <td>2.225510e+05</td>\n",
       "      <td>...</td>\n",
       "      <td>222551.000000</td>\n",
       "      <td>2.225510e+05</td>\n",
       "      <td>222551.000000</td>\n",
       "      <td>222551.000000</td>\n",
       "      <td>222551.000000</td>\n",
       "      <td>222535.000000</td>\n",
       "      <td>222546.000000</td>\n",
       "      <td>2.154440e+05</td>\n",
       "      <td>2.154440e+05</td>\n",
       "      <td>2.154440e+05</td>\n",
       "    </tr>\n",
       "    <tr>\n",
       "      <th>mean</th>\n",
       "      <td>14664.861313</td>\n",
       "      <td>13.123227</td>\n",
       "      <td>436.225233</td>\n",
       "      <td>7.710462e+04</td>\n",
       "      <td>18.784147</td>\n",
       "      <td>0.310039</td>\n",
       "      <td>0.581826</td>\n",
       "      <td>11.577144</td>\n",
       "      <td>0.201091</td>\n",
       "      <td>1.631831e+04</td>\n",
       "      <td>...</td>\n",
       "      <td>2364.654662</td>\n",
       "      <td>1.427783e+00</td>\n",
       "      <td>139.337034</td>\n",
       "      <td>23.164719</td>\n",
       "      <td>3332.705130</td>\n",
       "      <td>0.018087</td>\n",
       "      <td>0.004201</td>\n",
       "      <td>2.653137e+02</td>\n",
       "      <td>1.400701e+05</td>\n",
       "      <td>3.391264e+04</td>\n",
       "    </tr>\n",
       "    <tr>\n",
       "      <th>std</th>\n",
       "      <td>8695.801475</td>\n",
       "      <td>4.829927</td>\n",
       "      <td>255.335543</td>\n",
       "      <td>8.090130e+04</td>\n",
       "      <td>13.760273</td>\n",
       "      <td>0.866469</td>\n",
       "      <td>0.889304</td>\n",
       "      <td>5.623546</td>\n",
       "      <td>0.577938</td>\n",
       "      <td>2.178395e+04</td>\n",
       "      <td>...</td>\n",
       "      <td>2650.209245</td>\n",
       "      <td>1.083302e+01</td>\n",
       "      <td>739.645068</td>\n",
       "      <td>128.976352</td>\n",
       "      <td>5846.437444</td>\n",
       "      <td>0.152277</td>\n",
       "      <td>0.069698</td>\n",
       "      <td>1.979341e+04</td>\n",
       "      <td>1.559815e+05</td>\n",
       "      <td>3.373813e+04</td>\n",
       "    </tr>\n",
       "    <tr>\n",
       "      <th>min</th>\n",
       "      <td>500.000000</td>\n",
       "      <td>5.310000</td>\n",
       "      <td>16.310000</td>\n",
       "      <td>0.000000e+00</td>\n",
       "      <td>0.000000</td>\n",
       "      <td>0.000000</td>\n",
       "      <td>0.000000</td>\n",
       "      <td>0.000000</td>\n",
       "      <td>0.000000</td>\n",
       "      <td>0.000000e+00</td>\n",
       "      <td>...</td>\n",
       "      <td>0.000000</td>\n",
       "      <td>-5.100000e-09</td>\n",
       "      <td>0.000000</td>\n",
       "      <td>0.000000</td>\n",
       "      <td>0.000000</td>\n",
       "      <td>0.000000</td>\n",
       "      <td>0.000000</td>\n",
       "      <td>0.000000e+00</td>\n",
       "      <td>0.000000e+00</td>\n",
       "      <td>0.000000e+00</td>\n",
       "    </tr>\n",
       "    <tr>\n",
       "      <th>25%</th>\n",
       "      <td>8000.000000</td>\n",
       "      <td>9.580000</td>\n",
       "      <td>250.740000</td>\n",
       "      <td>4.600000e+04</td>\n",
       "      <td>11.900000</td>\n",
       "      <td>0.000000</td>\n",
       "      <td>0.000000</td>\n",
       "      <td>8.000000</td>\n",
       "      <td>0.000000</td>\n",
       "      <td>5.901000e+03</td>\n",
       "      <td>...</td>\n",
       "      <td>685.325000</td>\n",
       "      <td>0.000000e+00</td>\n",
       "      <td>0.000000</td>\n",
       "      <td>0.000000</td>\n",
       "      <td>306.900000</td>\n",
       "      <td>0.000000</td>\n",
       "      <td>0.000000</td>\n",
       "      <td>0.000000e+00</td>\n",
       "      <td>2.885000e+04</td>\n",
       "      <td>1.450000e+04</td>\n",
       "    </tr>\n",
       "    <tr>\n",
       "      <th>50%</th>\n",
       "      <td>12500.000000</td>\n",
       "      <td>12.690000</td>\n",
       "      <td>374.140000</td>\n",
       "      <td>6.500000e+04</td>\n",
       "      <td>17.860000</td>\n",
       "      <td>0.000000</td>\n",
       "      <td>0.000000</td>\n",
       "      <td>11.000000</td>\n",
       "      <td>0.000000</td>\n",
       "      <td>1.124800e+04</td>\n",
       "      <td>...</td>\n",
       "      <td>1464.640000</td>\n",
       "      <td>0.000000e+00</td>\n",
       "      <td>0.000000</td>\n",
       "      <td>0.000000</td>\n",
       "      <td>574.810000</td>\n",
       "      <td>0.000000</td>\n",
       "      <td>0.000000</td>\n",
       "      <td>0.000000e+00</td>\n",
       "      <td>7.791500e+04</td>\n",
       "      <td>2.510000e+04</td>\n",
       "    </tr>\n",
       "    <tr>\n",
       "      <th>75%</th>\n",
       "      <td>20000.000000</td>\n",
       "      <td>15.990000</td>\n",
       "      <td>578.930000</td>\n",
       "      <td>9.200000e+04</td>\n",
       "      <td>24.500000</td>\n",
       "      <td>0.000000</td>\n",
       "      <td>1.000000</td>\n",
       "      <td>14.000000</td>\n",
       "      <td>0.000000</td>\n",
       "      <td>1.988500e+04</td>\n",
       "      <td>...</td>\n",
       "      <td>3016.625000</td>\n",
       "      <td>0.000000e+00</td>\n",
       "      <td>0.000000</td>\n",
       "      <td>0.000000</td>\n",
       "      <td>3588.285000</td>\n",
       "      <td>0.000000</td>\n",
       "      <td>0.000000</td>\n",
       "      <td>0.000000e+00</td>\n",
       "      <td>2.104530e+05</td>\n",
       "      <td>4.250000e+04</td>\n",
       "    </tr>\n",
       "    <tr>\n",
       "      <th>max</th>\n",
       "      <td>38000.000000</td>\n",
       "      <td>30.990000</td>\n",
       "      <td>1545.860000</td>\n",
       "      <td>9.300000e+06</td>\n",
       "      <td>999.000000</td>\n",
       "      <td>30.000000</td>\n",
       "      <td>16.000000</td>\n",
       "      <td>93.000000</td>\n",
       "      <td>49.000000</td>\n",
       "      <td>1.470945e+06</td>\n",
       "      <td>...</td>\n",
       "      <td>28192.500000</td>\n",
       "      <td>7.681700e+02</td>\n",
       "      <td>34740.400000</td>\n",
       "      <td>5192.990000</td>\n",
       "      <td>38782.550000</td>\n",
       "      <td>8.000000</td>\n",
       "      <td>5.000000</td>\n",
       "      <td>9.152545e+06</td>\n",
       "      <td>3.916686e+06</td>\n",
       "      <td>1.875800e+06</td>\n",
       "    </tr>\n",
       "  </tbody>\n",
       "</table>\n",
       "<p>8 rows × 25 columns</p>\n",
       "</div>"
      ],
      "text/plain": [
       "           loan_amnt       int_rate    installment    annual_inc  \\\n",
       "count  222551.000000  222551.000000  222551.000000  2.225510e+05   \n",
       "mean    14664.861313      13.123227     436.225233  7.710462e+04   \n",
       "std      8695.801475       4.829927     255.335543  8.090130e+04   \n",
       "min       500.000000       5.310000      16.310000  0.000000e+00   \n",
       "25%      8000.000000       9.580000     250.740000  4.600000e+04   \n",
       "50%     12500.000000      12.690000     374.140000  6.500000e+04   \n",
       "75%     20000.000000      15.990000     578.930000  9.200000e+04   \n",
       "max     38000.000000      30.990000    1545.860000  9.300000e+06   \n",
       "\n",
       "                 dti    delinq_2yrs  inq_last_6mths       open_acc  \\\n",
       "count  222383.000000  222546.000000   222546.000000  222546.000000   \n",
       "mean       18.784147       0.310039        0.581826      11.577144   \n",
       "std        13.760273       0.866469        0.889304       5.623546   \n",
       "min         0.000000       0.000000        0.000000       0.000000   \n",
       "25%        11.900000       0.000000        0.000000       8.000000   \n",
       "50%        17.860000       0.000000        0.000000      11.000000   \n",
       "75%        24.500000       0.000000        1.000000      14.000000   \n",
       "max       999.000000      30.000000       16.000000      93.000000   \n",
       "\n",
       "             pub_rec     revol_bal  ...  total_rec_int  total_rec_late_fee  \\\n",
       "count  222546.000000  2.225510e+05  ...  222551.000000        2.225510e+05   \n",
       "mean        0.201091  1.631831e+04  ...    2364.654662        1.427783e+00   \n",
       "std         0.577938  2.178395e+04  ...    2650.209245        1.083302e+01   \n",
       "min         0.000000  0.000000e+00  ...       0.000000       -5.100000e-09   \n",
       "25%         0.000000  5.901000e+03  ...     685.325000        0.000000e+00   \n",
       "50%         0.000000  1.124800e+04  ...    1464.640000        0.000000e+00   \n",
       "75%         0.000000  1.988500e+04  ...    3016.625000        0.000000e+00   \n",
       "max        49.000000  1.470945e+06  ...   28192.500000        7.681700e+02   \n",
       "\n",
       "          recoveries  collection_recovery_fee  last_pymnt_amnt  \\\n",
       "count  222551.000000            222551.000000    222551.000000   \n",
       "mean      139.337034                23.164719      3332.705130   \n",
       "std       739.645068               128.976352      5846.437444   \n",
       "min         0.000000                 0.000000         0.000000   \n",
       "25%         0.000000                 0.000000       306.900000   \n",
       "50%         0.000000                 0.000000       574.810000   \n",
       "75%         0.000000                 0.000000      3588.285000   \n",
       "max     34740.400000              5192.990000     38782.550000   \n",
       "\n",
       "       collections_12_mths_ex_med  acc_now_delinq  tot_coll_amt   tot_cur_bal  \\\n",
       "count               222535.000000   222546.000000  2.154440e+05  2.154440e+05   \n",
       "mean                     0.018087        0.004201  2.653137e+02  1.400701e+05   \n",
       "std                      0.152277        0.069698  1.979341e+04  1.559815e+05   \n",
       "min                      0.000000        0.000000  0.000000e+00  0.000000e+00   \n",
       "25%                      0.000000        0.000000  0.000000e+00  2.885000e+04   \n",
       "50%                      0.000000        0.000000  0.000000e+00  7.791500e+04   \n",
       "75%                      0.000000        0.000000  0.000000e+00  2.104530e+05   \n",
       "max                      8.000000        5.000000  9.152545e+06  3.916686e+06   \n",
       "\n",
       "       total_rev_hi_lim  \n",
       "count      2.154440e+05  \n",
       "mean       3.391264e+04  \n",
       "std        3.373813e+04  \n",
       "min        0.000000e+00  \n",
       "25%        1.450000e+04  \n",
       "50%        2.510000e+04  \n",
       "75%        4.250000e+04  \n",
       "max        1.875800e+06  \n",
       "\n",
       "[8 rows x 25 columns]"
      ]
     },
     "execution_count": 86,
     "metadata": {},
     "output_type": "execute_result"
    }
   ],
   "source": [
    "combine_data[['loan_amnt', 'int_rate', 'installment', 'annual_inc', 'dti',\n",
    "       'delinq_2yrs', 'inq_last_6mths', 'open_acc', 'pub_rec', 'revol_bal',\n",
    "       'revol_util', 'total_acc', 'total_pymnt', 'total_pymnt_inv',\n",
    "       'total_rec_prncp', 'total_rec_int', 'total_rec_late_fee', 'recoveries',\n",
    "       'collection_recovery_fee', 'last_pymnt_amnt',\n",
    "       'collections_12_mths_ex_med', 'acc_now_delinq', 'tot_coll_amt',\n",
    "       'tot_cur_bal', 'total_rev_hi_lim']].describe()"
   ]
  },
  {
   "cell_type": "code",
   "execution_count": 94,
   "id": "60673efb-407f-4261-8fa7-7d6006be663c",
   "metadata": {},
   "outputs": [],
   "source": [
    "def out_liear(df,col):\n",
    "    for i in col:\n",
    "       high =  df[i].mean() + 3*df[i].std()\n",
    "       low = df[i].mean() - 3*df[i].std()\n",
    "       print(f\"colmn name '{i}' and low is {low} and high is {high}\")\n",
    "       df = df[(df[i] > low) & (df[i] < high)]\n",
    "    return df"
   ]
  },
  {
   "cell_type": "code",
   "execution_count": 95,
   "id": "e69e90a8-e7d3-4882-9829-8d235acb68da",
   "metadata": {},
   "outputs": [
    {
     "name": "stdout",
     "output_type": "stream",
     "text": [
      "colmn name 'loan_amnt' and low is -12474.069758081469 and high is 42590.01171334252\n",
      "colmn name 'int_rate' and low is -1.3882301805609956 and high is 27.56992728805568\n",
      "colmn name 'installment' and low is -353.24585843652534 and high is 1242.555294744146\n",
      "colmn name 'annual_inc' and low is -167681.80169093807 and high is 323106.46406650764\n",
      "colmn name 'dti' and low is -22.95823344789992 and high is 60.56089824935949\n",
      "colmn name 'delinq_2yrs' and low is -2.279471009098507 and high is 2.894280473855506\n",
      "colmn name 'inq_last_6mths' and low is -2.0701481564585054 and high is 3.215729141799195\n",
      "colmn name 'open_acc' and low is -5.266020609498408 and high is 28.30424564015011\n",
      "colmn name 'pub_rec' and low is -1.5296800539821578 and high is 1.929527320287673\n",
      "colmn name 'revol_bal' and low is -43751.512891330494 and high is 76065.51479770316\n",
      "colmn name 'revol_util' and low is -23.923061696376188 and high is 124.47304845226284\n",
      "colmn name 'total_acc' and low is -10.651762270728572 and high is 57.56403966544062\n",
      "colmn name 'total_pymnt' and low is -17290.994025690496 and high is 40265.341286777424\n",
      "colmn name 'total_pymnt_inv' and low is -15465.45532896321 and high is 37510.8416909391\n",
      "colmn name 'total_rec_prncp' and low is -13222.689968022161 and high is 30267.271305014467\n",
      "colmn name 'total_rec_int' and low is -4595.082837558541 and high is 8850.850495192082\n",
      "colmn name 'total_rec_late_fee' and low is -24.68441774719402 and high is 26.957221291251898\n",
      "colmn name 'recoveries' and low is -1894.8869383597344 and high is 2137.203127983976\n",
      "colmn name 'collection_recovery_fee' and low is -118.16124492225943 and high is 134.25052683090863\n",
      "colmn name 'last_pymnt_amnt' and low is -12285.914845456991 and high is 18365.292577895834\n",
      "colmn name 'collections_12_mths_ex_med' and low is -0.4077395833594252 and high is 0.44155803469728216\n",
      "colmn name 'acc_now_delinq' and low is -0.15924752110189663 and high is 0.1647684814922157\n",
      "colmn name 'tot_coll_amt' and low is -67522.90956052326 and high is 68046.43287639695\n",
      "colmn name 'tot_cur_bal' and low is -285380.7371317479 and high is 537423.7412847481\n",
      "colmn name 'total_rev_hi_lim' and low is -42873.15058988608 and high is 103996.48046832891\n",
      "colmn name 'y' and low is -0.68911485722517 and high is 0.8260211087893123\n"
     ]
    },
    {
     "data": {
      "text/html": [
       "<div>\n",
       "<style scoped>\n",
       "    .dataframe tbody tr th:only-of-type {\n",
       "        vertical-align: middle;\n",
       "    }\n",
       "\n",
       "    .dataframe tbody tr th {\n",
       "        vertical-align: top;\n",
       "    }\n",
       "\n",
       "    .dataframe thead th {\n",
       "        text-align: right;\n",
       "    }\n",
       "</style>\n",
       "<table border=\"1\" class=\"dataframe\">\n",
       "  <thead>\n",
       "    <tr style=\"text-align: right;\">\n",
       "      <th></th>\n",
       "      <th>loan_amnt</th>\n",
       "      <th>int_rate</th>\n",
       "      <th>installment</th>\n",
       "      <th>annual_inc</th>\n",
       "      <th>dti</th>\n",
       "      <th>delinq_2yrs</th>\n",
       "      <th>inq_last_6mths</th>\n",
       "      <th>open_acc</th>\n",
       "      <th>pub_rec</th>\n",
       "      <th>revol_bal</th>\n",
       "      <th>...</th>\n",
       "      <th>total_rec_late_fee</th>\n",
       "      <th>recoveries</th>\n",
       "      <th>collection_recovery_fee</th>\n",
       "      <th>last_pymnt_amnt</th>\n",
       "      <th>collections_12_mths_ex_med</th>\n",
       "      <th>acc_now_delinq</th>\n",
       "      <th>tot_coll_amt</th>\n",
       "      <th>tot_cur_bal</th>\n",
       "      <th>total_rev_hi_lim</th>\n",
       "      <th>y</th>\n",
       "    </tr>\n",
       "  </thead>\n",
       "  <tbody>\n",
       "    <tr>\n",
       "      <th>count</th>\n",
       "      <td>148891.000000</td>\n",
       "      <td>148891.000000</td>\n",
       "      <td>148891.000000</td>\n",
       "      <td>148891.000000</td>\n",
       "      <td>148891.000000</td>\n",
       "      <td>148891.000000</td>\n",
       "      <td>148891.000000</td>\n",
       "      <td>148891.000000</td>\n",
       "      <td>148891.000000</td>\n",
       "      <td>148891.000000</td>\n",
       "      <td>...</td>\n",
       "      <td>1.488910e+05</td>\n",
       "      <td>148891.0</td>\n",
       "      <td>148891.0</td>\n",
       "      <td>148891.000000</td>\n",
       "      <td>148891.0</td>\n",
       "      <td>148891.0</td>\n",
       "      <td>148891.000000</td>\n",
       "      <td>148891.000000</td>\n",
       "      <td>148891.000000</td>\n",
       "      <td>148891.0</td>\n",
       "    </tr>\n",
       "    <tr>\n",
       "      <th>mean</th>\n",
       "      <td>13236.630824</td>\n",
       "      <td>12.346644</td>\n",
       "      <td>394.080491</td>\n",
       "      <td>69649.771966</td>\n",
       "      <td>18.284809</td>\n",
       "      <td>0.190905</td>\n",
       "      <td>0.481010</td>\n",
       "      <td>10.895548</td>\n",
       "      <td>0.147846</td>\n",
       "      <td>13378.731146</td>\n",
       "      <td>...</td>\n",
       "      <td>2.225137e-01</td>\n",
       "      <td>0.0</td>\n",
       "      <td>0.0</td>\n",
       "      <td>2670.553388</td>\n",
       "      <td>0.0</td>\n",
       "      <td>0.0</td>\n",
       "      <td>203.055692</td>\n",
       "      <td>118000.582560</td>\n",
       "      <td>29224.022446</td>\n",
       "      <td>0.0</td>\n",
       "    </tr>\n",
       "    <tr>\n",
       "      <th>std</th>\n",
       "      <td>7886.066669</td>\n",
       "      <td>4.343386</td>\n",
       "      <td>224.350959</td>\n",
       "      <td>36920.881808</td>\n",
       "      <td>8.901569</td>\n",
       "      <td>0.473147</td>\n",
       "      <td>0.742333</td>\n",
       "      <td>4.871025</td>\n",
       "      <td>0.354949</td>\n",
       "      <td>11050.544726</td>\n",
       "      <td>...</td>\n",
       "      <td>1.998718e+00</td>\n",
       "      <td>0.0</td>\n",
       "      <td>0.0</td>\n",
       "      <td>4115.865884</td>\n",
       "      <td>0.0</td>\n",
       "      <td>0.0</td>\n",
       "      <td>1438.320839</td>\n",
       "      <td>119103.322257</td>\n",
       "      <td>20308.339092</td>\n",
       "      <td>0.0</td>\n",
       "    </tr>\n",
       "    <tr>\n",
       "      <th>min</th>\n",
       "      <td>1000.000000</td>\n",
       "      <td>5.310000</td>\n",
       "      <td>23.260000</td>\n",
       "      <td>2000.000000</td>\n",
       "      <td>0.000000</td>\n",
       "      <td>0.000000</td>\n",
       "      <td>0.000000</td>\n",
       "      <td>1.000000</td>\n",
       "      <td>0.000000</td>\n",
       "      <td>0.000000</td>\n",
       "      <td>...</td>\n",
       "      <td>-3.900000e-09</td>\n",
       "      <td>0.0</td>\n",
       "      <td>0.0</td>\n",
       "      <td>0.000000</td>\n",
       "      <td>0.0</td>\n",
       "      <td>0.0</td>\n",
       "      <td>0.000000</td>\n",
       "      <td>0.000000</td>\n",
       "      <td>0.000000</td>\n",
       "      <td>0.0</td>\n",
       "    </tr>\n",
       "    <tr>\n",
       "      <th>25%</th>\n",
       "      <td>7200.000000</td>\n",
       "      <td>9.160000</td>\n",
       "      <td>234.250000</td>\n",
       "      <td>45000.000000</td>\n",
       "      <td>11.700000</td>\n",
       "      <td>0.000000</td>\n",
       "      <td>0.000000</td>\n",
       "      <td>7.000000</td>\n",
       "      <td>0.000000</td>\n",
       "      <td>5634.000000</td>\n",
       "      <td>...</td>\n",
       "      <td>0.000000e+00</td>\n",
       "      <td>0.0</td>\n",
       "      <td>0.0</td>\n",
       "      <td>298.205000</td>\n",
       "      <td>0.0</td>\n",
       "      <td>0.0</td>\n",
       "      <td>0.000000</td>\n",
       "      <td>25803.500000</td>\n",
       "      <td>14100.000000</td>\n",
       "      <td>0.0</td>\n",
       "    </tr>\n",
       "    <tr>\n",
       "      <th>50%</th>\n",
       "      <td>12000.000000</td>\n",
       "      <td>11.990000</td>\n",
       "      <td>343.390000</td>\n",
       "      <td>61000.000000</td>\n",
       "      <td>17.590000</td>\n",
       "      <td>0.000000</td>\n",
       "      <td>0.000000</td>\n",
       "      <td>10.000000</td>\n",
       "      <td>0.000000</td>\n",
       "      <td>10471.000000</td>\n",
       "      <td>...</td>\n",
       "      <td>0.000000e+00</td>\n",
       "      <td>0.0</td>\n",
       "      <td>0.0</td>\n",
       "      <td>550.680000</td>\n",
       "      <td>0.0</td>\n",
       "      <td>0.0</td>\n",
       "      <td>0.000000</td>\n",
       "      <td>64538.000000</td>\n",
       "      <td>24000.000000</td>\n",
       "      <td>0.0</td>\n",
       "    </tr>\n",
       "    <tr>\n",
       "      <th>75%</th>\n",
       "      <td>18000.000000</td>\n",
       "      <td>14.990000</td>\n",
       "      <td>509.070000</td>\n",
       "      <td>85000.000000</td>\n",
       "      <td>24.240000</td>\n",
       "      <td>0.000000</td>\n",
       "      <td>1.000000</td>\n",
       "      <td>14.000000</td>\n",
       "      <td>0.000000</td>\n",
       "      <td>17758.000000</td>\n",
       "      <td>...</td>\n",
       "      <td>0.000000e+00</td>\n",
       "      <td>0.0</td>\n",
       "      <td>0.0</td>\n",
       "      <td>3416.995000</td>\n",
       "      <td>0.0</td>\n",
       "      <td>0.0</td>\n",
       "      <td>0.000000</td>\n",
       "      <td>186360.500000</td>\n",
       "      <td>39300.000000</td>\n",
       "      <td>0.0</td>\n",
       "    </tr>\n",
       "    <tr>\n",
       "      <th>max</th>\n",
       "      <td>40000.000000</td>\n",
       "      <td>27.490000</td>\n",
       "      <td>1242.460000</td>\n",
       "      <td>323000.000000</td>\n",
       "      <td>60.440000</td>\n",
       "      <td>2.000000</td>\n",
       "      <td>3.000000</td>\n",
       "      <td>28.000000</td>\n",
       "      <td>1.000000</td>\n",
       "      <td>76050.000000</td>\n",
       "      <td>...</td>\n",
       "      <td>2.695000e+01</td>\n",
       "      <td>0.0</td>\n",
       "      <td>0.0</td>\n",
       "      <td>18365.070000</td>\n",
       "      <td>0.0</td>\n",
       "      <td>0.0</td>\n",
       "      <td>67647.000000</td>\n",
       "      <td>537366.000000</td>\n",
       "      <td>103900.000000</td>\n",
       "      <td>0.0</td>\n",
       "    </tr>\n",
       "  </tbody>\n",
       "</table>\n",
       "<p>8 rows × 26 columns</p>\n",
       "</div>"
      ],
      "text/plain": [
       "           loan_amnt       int_rate    installment     annual_inc  \\\n",
       "count  148891.000000  148891.000000  148891.000000  148891.000000   \n",
       "mean    13236.630824      12.346644     394.080491   69649.771966   \n",
       "std      7886.066669       4.343386     224.350959   36920.881808   \n",
       "min      1000.000000       5.310000      23.260000    2000.000000   \n",
       "25%      7200.000000       9.160000     234.250000   45000.000000   \n",
       "50%     12000.000000      11.990000     343.390000   61000.000000   \n",
       "75%     18000.000000      14.990000     509.070000   85000.000000   \n",
       "max     40000.000000      27.490000    1242.460000  323000.000000   \n",
       "\n",
       "                 dti    delinq_2yrs  inq_last_6mths       open_acc  \\\n",
       "count  148891.000000  148891.000000   148891.000000  148891.000000   \n",
       "mean       18.284809       0.190905        0.481010      10.895548   \n",
       "std         8.901569       0.473147        0.742333       4.871025   \n",
       "min         0.000000       0.000000        0.000000       1.000000   \n",
       "25%        11.700000       0.000000        0.000000       7.000000   \n",
       "50%        17.590000       0.000000        0.000000      10.000000   \n",
       "75%        24.240000       0.000000        1.000000      14.000000   \n",
       "max        60.440000       2.000000        3.000000      28.000000   \n",
       "\n",
       "             pub_rec      revol_bal  ...  total_rec_late_fee  recoveries  \\\n",
       "count  148891.000000  148891.000000  ...        1.488910e+05    148891.0   \n",
       "mean        0.147846   13378.731146  ...        2.225137e-01         0.0   \n",
       "std         0.354949   11050.544726  ...        1.998718e+00         0.0   \n",
       "min         0.000000       0.000000  ...       -3.900000e-09         0.0   \n",
       "25%         0.000000    5634.000000  ...        0.000000e+00         0.0   \n",
       "50%         0.000000   10471.000000  ...        0.000000e+00         0.0   \n",
       "75%         0.000000   17758.000000  ...        0.000000e+00         0.0   \n",
       "max         1.000000   76050.000000  ...        2.695000e+01         0.0   \n",
       "\n",
       "       collection_recovery_fee  last_pymnt_amnt  collections_12_mths_ex_med  \\\n",
       "count                 148891.0    148891.000000                    148891.0   \n",
       "mean                       0.0      2670.553388                         0.0   \n",
       "std                        0.0      4115.865884                         0.0   \n",
       "min                        0.0         0.000000                         0.0   \n",
       "25%                        0.0       298.205000                         0.0   \n",
       "50%                        0.0       550.680000                         0.0   \n",
       "75%                        0.0      3416.995000                         0.0   \n",
       "max                        0.0     18365.070000                         0.0   \n",
       "\n",
       "       acc_now_delinq   tot_coll_amt    tot_cur_bal  total_rev_hi_lim  \\\n",
       "count        148891.0  148891.000000  148891.000000     148891.000000   \n",
       "mean              0.0     203.055692  118000.582560      29224.022446   \n",
       "std               0.0    1438.320839  119103.322257      20308.339092   \n",
       "min               0.0       0.000000       0.000000          0.000000   \n",
       "25%               0.0       0.000000   25803.500000      14100.000000   \n",
       "50%               0.0       0.000000   64538.000000      24000.000000   \n",
       "75%               0.0       0.000000  186360.500000      39300.000000   \n",
       "max               0.0   67647.000000  537366.000000     103900.000000   \n",
       "\n",
       "              y  \n",
       "count  148891.0  \n",
       "mean        0.0  \n",
       "std         0.0  \n",
       "min         0.0  \n",
       "25%         0.0  \n",
       "50%         0.0  \n",
       "75%         0.0  \n",
       "max         0.0  \n",
       "\n",
       "[8 rows x 26 columns]"
      ]
     },
     "execution_count": 95,
     "metadata": {},
     "output_type": "execute_result"
    }
   ],
   "source": [
    "v = out_liear(num_train,num_train.columns)\n",
    "v.describe()"
   ]
  },
  {
   "cell_type": "code",
   "execution_count": 96,
   "id": "b07f0135-5267-4c2b-90b2-e94e9ff08b68",
   "metadata": {},
   "outputs": [
    {
     "data": {
      "image/png": "[encoded data removed]",
      "text/plain": [
       "<Figure size 640x480 with 1 Axes>"
      ]
     },
     "metadata": {},
     "output_type": "display_data"
    },
    {
     "data": {
      "image/png": "[encoded data removed]",
      "text/plain": [
       "<Figure size 640x480 with 1 Axes>"
      ]
     },
     "metadata": {},
     "output_type": "display_data"
    },
    {
     "data": {
      "image/png": "[encoded data removed]",
      "text/plain": [
       "<Figure size 640x480 with 1 Axes>"
      ]
     },
     "metadata": {},
     "output_type": "display_data"
    },
    {
     "data": {
      "image/png": "[encoded data removed]",
      "text/plain": [
       "<Figure size 640x480 with 1 Axes>"
      ]
     },
     "metadata": {},
     "output_type": "display_data"
    },
    {
     "data": {
      "image/png": "[encoded data removed]",
      "text/plain": [
       "<Figure size 640x480 with 1 Axes>"
      ]
     },
     "metadata": {},
     "output_type": "display_data"
    },
    {
     "data": {
      "image/png": "[encoded data removed]",
      "text/plain": [
       "<Figure size 640x480 with 1 Axes>"
      ]
     },
     "metadata": {},
     "output_type": "display_data"
    },
    {
     "data": {
      "image/png": "[encoded data removed]",
      "text/plain": [
       "<Figure size 640x480 with 1 Axes>"
      ]
     },
     "metadata": {},
     "output_type": "display_data"
    },
    {
     "data": {
      "image/png": "[encoded data removed]",
      "text/plain": [
       "<Figure size 640x480 with 1 Axes>"
      ]
     },
     "metadata": {},
     "output_type": "display_data"
    },
    {
     "data": {
      "image/png": "[encoded data removed]",
      "text/plain": [
       "<Figure size 640x480 with 1 Axes>"
      ]
     },
     "metadata": {},
     "output_type": "display_data"
    },
    {
     "data": {
      "image/png": "[encoded data removed]",
      "text/plain": [
       "<Figure size 640x480 with 1 Axes>"
      ]
     },
     "metadata": {},
     "output_type": "display_data"
    },
    {
     "data": {
      "image/png": "[encoded data removed]",
      "text/plain": [
       "<Figure size 640x480 with 1 Axes>"
      ]
     },
     "metadata": {},
     "output_type": "display_data"
    },
    {
     "data": {
      "image/png": "[encoded data removed]",
      "text/plain": [
       "<Figure size 640x480 with 1 Axes>"
      ]
     },
     "metadata": {},
     "output_type": "display_data"
    },
    {
     "data": {
      "image/png": "[encoded data removed]",
      "text/plain": [
       "<Figure size 640x480 with 1 Axes>"
      ]
     },
     "metadata": {},
     "output_type": "display_data"
    },
    {
     "data": {
      "image/png": "[encoded data removed]",
      "text/plain": [
       "<Figure size 640x480 with 1 Axes>"
      ]
     },
     "metadata": {},
     "output_type": "display_data"
    },
    {
     "data": {
      "image/png": "[encoded data removed]",
      "text/plain": [
       "<Figure size 640x480 with 1 Axes>"
      ]
     },
     "metadata": {},
     "output_type": "display_data"
    },
    {
     "data": {
      "image/png": "[encoded data removed]",
      "text/plain": [
       "<Figure size 640x480 with 1 Axes>"
      ]
     },
     "metadata": {},
     "output_type": "display_data"
    },
    {
     "data": {
      "image/png": "[encoded data removed]",
      "text/plain": [
       "<Figure size 640x480 with 1 Axes>"
      ]
     },
     "metadata": {},
     "output_type": "display_data"
    },
    {
     "data": {
      "image/png": "[encoded data removed]",
      "text/plain": [
       "<Figure size 640x480 with 1 Axes>"
      ]
     },
     "metadata": {},
     "output_type": "display_data"
    },
    {
     "data": {
      "image/png": "[encoded data removed]",
      "text/plain": [
       "<Figure size 640x480 with 1 Axes>"
      ]
     },
     "metadata": {},
     "output_type": "display_data"
    },
    {
     "data": {
      "image/png": "[encoded data removed]",
      "text/plain": [
       "<Figure size 640x480 with 1 Axes>"
      ]
     },
     "metadata": {},
     "output_type": "display_data"
    },
    {
     "data": {
      "image/png": "[encoded data removed]",
      "text/plain": [
       "<Figure size 640x480 with 1 Axes>"
      ]
     },
     "metadata": {},
     "output_type": "display_data"
    },
    {
     "data": {
      "image/png": "[encoded data removed]",
      "text/plain": [
       "<Figure size 640x480 with 1 Axes>"
      ]
     },
     "metadata": {},
     "output_type": "display_data"
    },
    {
     "data": {
      "image/png": "[encoded data removed]",
      "text/plain": [
       "<Figure size 640x480 with 1 Axes>"
      ]
     },
     "metadata": {},
     "output_type": "display_data"
    },
    {
     "data": {
      "image/png": "[encoded data removed]",
      "text/plain": [
       "<Figure size 640x480 with 1 Axes>"
      ]
     },
     "metadata": {},
     "output_type": "display_data"
    },
    {
     "data": {
      "image/png": "[encoded data removed]",
      "text/plain": [
       "<Figure size 640x480 with 1 Axes>"
      ]
     },
     "metadata": {},
     "output_type": "display_data"
    },
    {
     "data": {
      "image/png": "[encoded data removed]",
      "text/plain": [
       "<Figure size 640x480 with 1 Axes>"
      ]
     },
     "metadata": {},
     "output_type": "display_data"
    }
   ],
   "source": [
    "for i in v.columns:\n",
    "    plt.boxplot(v[i])\n",
    "    plt.title(i)\n",
    "    plt.show()"
   ]
  },
  {
   "cell_type": "code",
   "execution_count": null,
   "id": "a4b42760-cb5a-486f-9c3f-8dd50c418817",
   "metadata": {},
   "outputs": [],
   "source": []
  },
  {
   "cell_type": "code",
   "execution_count": null,
   "id": "4f8874b6-608e-41b5-b9ba-d65ef808dbb4",
   "metadata": {},
   "outputs": [],
   "source": []
  },
  {
   "cell_type": "code",
   "execution_count": null,
   "id": "20bf2d85-2832-4541-a94e-53489689928b",
   "metadata": {},
   "outputs": [],
   "source": []
  },
  {
   "cell_type": "code",
   "execution_count": null,
   "id": "a7b638f4-7db9-4bc2-b954-00417ac04ab6",
   "metadata": {},
   "outputs": [],
   "source": []
  },
  {
   "cell_type": "code",
   "execution_count": null,
   "id": "183b045a-89e2-438e-a903-997d50a61969",
   "metadata": {},
   "outputs": [],
   "source": []
  },
  {
   "cell_type": "code",
   "execution_count": null,
   "id": "537a9e90-5c65-45e9-8392-bdcf0cb2899d",
   "metadata": {},
   "outputs": [],
   "source": []
  },
  {
   "cell_type": "code",
   "execution_count": null,
   "id": "01054cdd-3cdb-419b-844f-7fe3e0d7eb57",
   "metadata": {},
   "outputs": [],
   "source": []
  },
  {
   "cell_type": "code",
   "execution_count": null,
   "id": "de034b88-0062-44d5-9e43-1e9c98410471",
   "metadata": {},
   "outputs": [],
   "source": []
  },
  {
   "cell_type": "code",
   "execution_count": null,
   "id": "a0eeb624-6eb0-4ab1-88a1-9509b271ffcf",
   "metadata": {},
   "outputs": [],
   "source": []
  },
  {
   "cell_type": "code",
   "execution_count": null,
   "id": "ea2f6d37-4433-4769-a6d6-0cb8b26ca680",
   "metadata": {},
   "outputs": [],
   "source": []
  },
  {
   "cell_type": "code",
   "execution_count": null,
   "id": "595c232c-00be-4b3d-91cb-5e94f0bd8c22",
   "metadata": {},
   "outputs": [],
   "source": []
  },
  {
   "cell_type": "code",
   "execution_count": null,
   "id": "ac6a40f9-b35c-46fb-9a81-b7e10c833933",
   "metadata": {},
   "outputs": [],
   "source": []
  },
  {
   "cell_type": "code",
   "execution_count": null,
   "id": "ca9c6204-a1a0-4423-add3-10a8b57003c3",
   "metadata": {},
   "outputs": [],
   "source": []
  },
  {
   "cell_type": "code",
   "execution_count": null,
   "id": "0ec6f3af-3ff7-4539-8683-467be240f15d",
   "metadata": {},
   "outputs": [],
   "source": []
  },
  {
   "cell_type": "code",
   "execution_count": null,
   "id": "5c4bf92e-a920-4519-b779-74de98bd0b33",
   "metadata": {},
   "outputs": [],
   "source": []
  },
  {
   "cell_type": "code",
   "execution_count": null,
   "id": "be8f839f-854b-495d-b059-97cd98310af9",
   "metadata": {},
   "outputs": [],
   "source": []
  },
  {
   "cell_type": "code",
   "execution_count": null,
   "id": "b8feb45a-83cc-4459-9db3-055a1f132b32",
   "metadata": {},
   "outputs": [],
   "source": []
  },
  {
   "cell_type": "code",
   "execution_count": 89,
   "id": "528aa0da-550a-433f-968f-49952681e111",
   "metadata": {},
   "outputs": [],
   "source": [
    "train_data.dti=train_data.dti.fillna(train_data.dti.median())"
   ]
  },
  {
   "cell_type": "code",
   "execution_count": 90,
   "id": "537eeb8f-50fb-4583-821e-a0869c2be93c",
   "metadata": {},
   "outputs": [
    {
     "data": {
      "text/plain": [
       "0"
      ]
     },
     "execution_count": 90,
     "metadata": {},
     "output_type": "execute_result"
    }
   ],
   "source": [
    "train_data.dti.isnull().sum()"
   ]
  },
  {
   "cell_type": "code",
   "execution_count": 91,
   "id": "f8cbe0b2-4f3b-403e-984e-12826853ddb2",
   "metadata": {},
   "outputs": [
    {
     "data": {
      "text/plain": [
       "115840"
      ]
     },
     "execution_count": 91,
     "metadata": {},
     "output_type": "execute_result"
    }
   ],
   "source": [
    "train_data.mths_since_last_delinq.isnull().sum()"
   ]
  },
  {
   "cell_type": "code",
   "execution_count": 92,
   "id": "c5eb34e9-ef68-4d0b-85c9-d00a8365e24a",
   "metadata": {},
   "outputs": [],
   "source": [
    "train_data.mths_since_last_delinq=train_data.mths_since_last_delinq.fillna(train_data.mths_since_last_delinq.median())"
   ]
  },
  {
   "cell_type": "code",
   "execution_count": 93,
   "id": "40c1615f-b920-4467-bbb2-a95c22d1f4bd",
   "metadata": {},
   "outputs": [
    {
     "data": {
      "text/plain": [
       "0"
      ]
     },
     "execution_count": 93,
     "metadata": {},
     "output_type": "execute_result"
    }
   ],
   "source": [
    "train_data.mths_since_last_delinq.isnull().sum()"
   ]
  },
  {
   "cell_type": "code",
   "execution_count": 94,
   "id": "ab27feaf-1430-458e-8885-84fc303bd57f",
   "metadata": {},
   "outputs": [],
   "source": [
    "train_data.revol_util=train_data.revol_util.fillna(train_data.revol_util.median())"
   ]
  },
  {
   "cell_type": "code",
   "execution_count": 95,
   "id": "e20cb752-9449-48a5-b456-3405c051c5ca",
   "metadata": {},
   "outputs": [
    {
     "data": {
      "text/plain": [
       "0"
      ]
     },
     "execution_count": 95,
     "metadata": {},
     "output_type": "execute_result"
    }
   ],
   "source": [
    "train_data.revol_util.isnull().sum()"
   ]
  },
  {
   "cell_type": "code",
   "execution_count": 96,
   "id": "37378a03-48f3-4d02-9931-83af021511d8",
   "metadata": {},
   "outputs": [],
   "source": [
    "train_data = train_data.drop(columns=[\"id\",\"member_id\"])"
   ]
  },
  {
   "cell_type": "code",
   "execution_count": 97,
   "id": "ca6c348c-4ed9-4cba-aa6e-1ddccc97501e",
   "metadata": {},
   "outputs": [],
   "source": [
    "train_data.emp_length =train_data.emp_length.fillna(train_data.emp_length.mode()[0])"
   ]
  },
  {
   "cell_type": "code",
   "execution_count": 98,
   "id": "2704b5f4-a6cc-447f-a6e5-ff395d9c3822",
   "metadata": {},
   "outputs": [
    {
     "data": {
      "text/plain": [
       "0"
      ]
     },
     "execution_count": 98,
     "metadata": {},
     "output_type": "execute_result"
    }
   ],
   "source": [
    "train_data.emp_length .isnull().sum()"
   ]
  },
  {
   "cell_type": "code",
   "execution_count": 99,
   "id": "608ae8b8-1986-43b6-9ded-47b6c3227ae5",
   "metadata": {},
   "outputs": [],
   "source": [
    "train_data.delinq_2yrs=train_data.delinq_2yrs.fillna(train_data.delinq_2yrs.mean())"
   ]
  },
  {
   "cell_type": "code",
   "execution_count": 100,
   "id": "3c26db06-949c-40d5-8efa-e9f4f4f73137",
   "metadata": {},
   "outputs": [
    {
     "data": {
      "text/plain": [
       "0"
      ]
     },
     "execution_count": 100,
     "metadata": {},
     "output_type": "execute_result"
    }
   ],
   "source": [
    "train_data.delinq_2yrs.isnull().sum()"
   ]
  },
  {
   "cell_type": "code",
   "execution_count": 101,
   "id": "9ee753c7-7333-4fa6-bfc5-873684f17d43",
   "metadata": {},
   "outputs": [],
   "source": [
    "train_data.inq_last_6mths=train_data.inq_last_6mths.fillna(train_data.inq_last_6mths.mean())"
   ]
  },
  {
   "cell_type": "code",
   "execution_count": 102,
   "id": "c072d8ed-5757-4d3e-bfd4-ff198f59f753",
   "metadata": {},
   "outputs": [],
   "source": [
    "train_data.open_acc=train_data.open_acc.fillna(train_data.open_acc.median())"
   ]
  },
  {
   "cell_type": "code",
   "execution_count": 103,
   "id": "c77ccc0b-6d9b-49c9-bcd2-109011784e75",
   "metadata": {},
   "outputs": [],
   "source": [
    "train_data.total_rev_hi_lim=train_data.total_rev_hi_lim.fillna(train_data.total_rev_hi_lim.median())"
   ]
  },
  {
   "cell_type": "code",
   "execution_count": 104,
   "id": "0e1dc15e-8ce8-4b42-ab19-c75167a0d856",
   "metadata": {},
   "outputs": [],
   "source": [
    "train_data.tot_cur_bal=train_data.tot_cur_bal.fillna(train_data.tot_cur_bal.median())"
   ]
  },
  {
   "cell_type": "code",
   "execution_count": 105,
   "id": "c3f33708-a82d-4402-a9f4-7b451a5e0d72",
   "metadata": {},
   "outputs": [],
   "source": [
    "train_data.tot_coll_amt=train_data.tot_coll_amt.fillna(train_data.tot_coll_amt.median())"
   ]
  },
  {
   "cell_type": "code",
   "execution_count": 106,
   "id": "8751fa59-d2b0-4bf7-b1ce-6b71c8ccd2d2",
   "metadata": {},
   "outputs": [],
   "source": [
    "train_data.acc_now_delinq=train_data.acc_now_delinq.fillna(train_data.acc_now_delinq.mean())"
   ]
  },
  {
   "cell_type": "code",
   "execution_count": 107,
   "id": "4c073d87-06f4-4339-955f-49edc008cb66",
   "metadata": {},
   "outputs": [],
   "source": [
    "train_data.collections_12_mths_ex_med=train_data.collections_12_mths_ex_med.fillna(train_data.collections_12_mths_ex_med.mean())"
   ]
  },
  {
   "cell_type": "code",
   "execution_count": 108,
   "id": "8b0cf4f5-9f33-4d70-94ff-d0d3affb8bde",
   "metadata": {},
   "outputs": [],
   "source": [
    "train_data.pub_rec=train_data.pub_rec.fillna(train_data.pub_rec.mean())"
   ]
  },
  {
   "cell_type": "code",
   "execution_count": 109,
   "id": "8264bb3e-dc38-4e8a-a3b4-256f83409809",
   "metadata": {},
   "outputs": [],
   "source": [
    "train_data.total_acc=train_data.total_acc.fillna(train_data.total_acc.median())\n"
   ]
  },
  {
   "cell_type": "code",
   "execution_count": 110,
   "id": "9cbf6bcc-fd38-476a-984c-4a5354524534",
   "metadata": {},
   "outputs": [
    {
     "data": {
      "text/html": [
       "<div>\n",
       "<style scoped>\n",
       "    .dataframe tbody tr th:only-of-type {\n",
       "        vertical-align: middle;\n",
       "    }\n",
       "\n",
       "    .dataframe tbody tr th {\n",
       "        vertical-align: top;\n",
       "    }\n",
       "\n",
       "    .dataframe thead th {\n",
       "        text-align: right;\n",
       "    }\n",
       "</style>\n",
       "<table border=\"1\" class=\"dataframe\">\n",
       "  <thead>\n",
       "    <tr style=\"text-align: right;\">\n",
       "      <th></th>\n",
       "      <th>loan_amnt</th>\n",
       "      <th>int_rate</th>\n",
       "      <th>installment</th>\n",
       "      <th>grade</th>\n",
       "      <th>emp_length</th>\n",
       "      <th>home_ownership</th>\n",
       "      <th>annual_inc</th>\n",
       "      <th>loan_status</th>\n",
       "      <th>dti</th>\n",
       "      <th>delinq_2yrs</th>\n",
       "      <th>...</th>\n",
       "      <th>total_rec_late_fee</th>\n",
       "      <th>recoveries</th>\n",
       "      <th>collection_recovery_fee</th>\n",
       "      <th>last_pymnt_amnt</th>\n",
       "      <th>collections_12_mths_ex_med</th>\n",
       "      <th>application_type</th>\n",
       "      <th>acc_now_delinq</th>\n",
       "      <th>tot_coll_amt</th>\n",
       "      <th>tot_cur_bal</th>\n",
       "      <th>total_rev_hi_lim</th>\n",
       "    </tr>\n",
       "  </thead>\n",
       "  <tbody>\n",
       "    <tr>\n",
       "      <th>0</th>\n",
       "      <td>18600</td>\n",
       "      <td>10.99</td>\n",
       "      <td>608.86</td>\n",
       "      <td>B</td>\n",
       "      <td>6 years</td>\n",
       "      <td>RENT</td>\n",
       "      <td>80000.0</td>\n",
       "      <td>Fully Paid</td>\n",
       "      <td>12.92</td>\n",
       "      <td>0.0</td>\n",
       "      <td>...</td>\n",
       "      <td>0.0</td>\n",
       "      <td>0.0</td>\n",
       "      <td>0.0</td>\n",
       "      <td>15705.09</td>\n",
       "      <td>0.0</td>\n",
       "      <td>Individual</td>\n",
       "      <td>0.0</td>\n",
       "      <td>0.0</td>\n",
       "      <td>170238.0</td>\n",
       "      <td>20700.0</td>\n",
       "    </tr>\n",
       "    <tr>\n",
       "      <th>1</th>\n",
       "      <td>2000</td>\n",
       "      <td>17.97</td>\n",
       "      <td>72.28</td>\n",
       "      <td>D</td>\n",
       "      <td>4 years</td>\n",
       "      <td>MORTGAGE</td>\n",
       "      <td>55400.0</td>\n",
       "      <td>Current</td>\n",
       "      <td>10.62</td>\n",
       "      <td>1.0</td>\n",
       "      <td>...</td>\n",
       "      <td>0.0</td>\n",
       "      <td>0.0</td>\n",
       "      <td>0.0</td>\n",
       "      <td>72.28</td>\n",
       "      <td>0.0</td>\n",
       "      <td>Joint App</td>\n",
       "      <td>0.0</td>\n",
       "      <td>74.0</td>\n",
       "      <td>351452.0</td>\n",
       "      <td>10800.0</td>\n",
       "    </tr>\n",
       "    <tr>\n",
       "      <th>2</th>\n",
       "      <td>12000</td>\n",
       "      <td>12.29</td>\n",
       "      <td>400.24</td>\n",
       "      <td>C</td>\n",
       "      <td>10+ years</td>\n",
       "      <td>OWN</td>\n",
       "      <td>60000.0</td>\n",
       "      <td>Fully Paid</td>\n",
       "      <td>17.92</td>\n",
       "      <td>0.0</td>\n",
       "      <td>...</td>\n",
       "      <td>0.0</td>\n",
       "      <td>0.0</td>\n",
       "      <td>0.0</td>\n",
       "      <td>11281.15</td>\n",
       "      <td>0.0</td>\n",
       "      <td>Individual</td>\n",
       "      <td>0.0</td>\n",
       "      <td>0.0</td>\n",
       "      <td>18207.0</td>\n",
       "      <td>20600.0</td>\n",
       "    </tr>\n",
       "    <tr>\n",
       "      <th>3</th>\n",
       "      <td>16000</td>\n",
       "      <td>19.42</td>\n",
       "      <td>589.90</td>\n",
       "      <td>D</td>\n",
       "      <td>7 years</td>\n",
       "      <td>RENT</td>\n",
       "      <td>64000.0</td>\n",
       "      <td>Current</td>\n",
       "      <td>3.90</td>\n",
       "      <td>1.0</td>\n",
       "      <td>...</td>\n",
       "      <td>0.0</td>\n",
       "      <td>0.0</td>\n",
       "      <td>0.0</td>\n",
       "      <td>589.90</td>\n",
       "      <td>0.0</td>\n",
       "      <td>Individual</td>\n",
       "      <td>0.0</td>\n",
       "      <td>0.0</td>\n",
       "      <td>12293.0</td>\n",
       "      <td>7800.0</td>\n",
       "    </tr>\n",
       "    <tr>\n",
       "      <th>4</th>\n",
       "      <td>22525</td>\n",
       "      <td>16.02</td>\n",
       "      <td>548.01</td>\n",
       "      <td>C</td>\n",
       "      <td>10+ years</td>\n",
       "      <td>MORTGAGE</td>\n",
       "      <td>94080.0</td>\n",
       "      <td>Fully Paid</td>\n",
       "      <td>19.08</td>\n",
       "      <td>1.0</td>\n",
       "      <td>...</td>\n",
       "      <td>0.0</td>\n",
       "      <td>0.0</td>\n",
       "      <td>0.0</td>\n",
       "      <td>21483.11</td>\n",
       "      <td>0.0</td>\n",
       "      <td>Individual</td>\n",
       "      <td>0.0</td>\n",
       "      <td>250.0</td>\n",
       "      <td>571244.0</td>\n",
       "      <td>53800.0</td>\n",
       "    </tr>\n",
       "    <tr>\n",
       "      <th>...</th>\n",
       "      <td>...</td>\n",
       "      <td>...</td>\n",
       "      <td>...</td>\n",
       "      <td>...</td>\n",
       "      <td>...</td>\n",
       "      <td>...</td>\n",
       "      <td>...</td>\n",
       "      <td>...</td>\n",
       "      <td>...</td>\n",
       "      <td>...</td>\n",
       "      <td>...</td>\n",
       "      <td>...</td>\n",
       "      <td>...</td>\n",
       "      <td>...</td>\n",
       "      <td>...</td>\n",
       "      <td>...</td>\n",
       "      <td>...</td>\n",
       "      <td>...</td>\n",
       "      <td>...</td>\n",
       "      <td>...</td>\n",
       "      <td>...</td>\n",
       "    </tr>\n",
       "    <tr>\n",
       "      <th>226062</th>\n",
       "      <td>5000</td>\n",
       "      <td>7.21</td>\n",
       "      <td>154.87</td>\n",
       "      <td>A</td>\n",
       "      <td>3 years</td>\n",
       "      <td>RENT</td>\n",
       "      <td>46000.0</td>\n",
       "      <td>Current</td>\n",
       "      <td>19.44</td>\n",
       "      <td>0.0</td>\n",
       "      <td>...</td>\n",
       "      <td>0.0</td>\n",
       "      <td>0.0</td>\n",
       "      <td>0.0</td>\n",
       "      <td>154.87</td>\n",
       "      <td>0.0</td>\n",
       "      <td>Individual</td>\n",
       "      <td>0.0</td>\n",
       "      <td>5618.0</td>\n",
       "      <td>37430.0</td>\n",
       "      <td>20200.0</td>\n",
       "    </tr>\n",
       "    <tr>\n",
       "      <th>226063</th>\n",
       "      <td>35000</td>\n",
       "      <td>21.85</td>\n",
       "      <td>963.68</td>\n",
       "      <td>D</td>\n",
       "      <td>&lt; 1 year</td>\n",
       "      <td>MORTGAGE</td>\n",
       "      <td>70000.0</td>\n",
       "      <td>Current</td>\n",
       "      <td>15.50</td>\n",
       "      <td>0.0</td>\n",
       "      <td>...</td>\n",
       "      <td>0.0</td>\n",
       "      <td>0.0</td>\n",
       "      <td>0.0</td>\n",
       "      <td>963.68</td>\n",
       "      <td>0.0</td>\n",
       "      <td>Individual</td>\n",
       "      <td>0.0</td>\n",
       "      <td>0.0</td>\n",
       "      <td>217083.0</td>\n",
       "      <td>9800.0</td>\n",
       "    </tr>\n",
       "    <tr>\n",
       "      <th>226064</th>\n",
       "      <td>1200</td>\n",
       "      <td>18.99</td>\n",
       "      <td>43.99</td>\n",
       "      <td>D</td>\n",
       "      <td>1 year</td>\n",
       "      <td>RENT</td>\n",
       "      <td>90000.0</td>\n",
       "      <td>Fully Paid</td>\n",
       "      <td>23.15</td>\n",
       "      <td>0.0</td>\n",
       "      <td>...</td>\n",
       "      <td>0.0</td>\n",
       "      <td>0.0</td>\n",
       "      <td>0.0</td>\n",
       "      <td>1197.23</td>\n",
       "      <td>0.0</td>\n",
       "      <td>Individual</td>\n",
       "      <td>0.0</td>\n",
       "      <td>0.0</td>\n",
       "      <td>76125.0</td>\n",
       "      <td>42100.0</td>\n",
       "    </tr>\n",
       "    <tr>\n",
       "      <th>226065</th>\n",
       "      <td>12000</td>\n",
       "      <td>8.90</td>\n",
       "      <td>381.04</td>\n",
       "      <td>A</td>\n",
       "      <td>&lt; 1 year</td>\n",
       "      <td>OWN</td>\n",
       "      <td>35000.0</td>\n",
       "      <td>Fully Paid</td>\n",
       "      <td>25.38</td>\n",
       "      <td>1.0</td>\n",
       "      <td>...</td>\n",
       "      <td>0.0</td>\n",
       "      <td>0.0</td>\n",
       "      <td>0.0</td>\n",
       "      <td>9983.17</td>\n",
       "      <td>0.0</td>\n",
       "      <td>Individual</td>\n",
       "      <td>0.0</td>\n",
       "      <td>0.0</td>\n",
       "      <td>26386.0</td>\n",
       "      <td>43300.0</td>\n",
       "    </tr>\n",
       "    <tr>\n",
       "      <th>226066</th>\n",
       "      <td>20000</td>\n",
       "      <td>8.24</td>\n",
       "      <td>628.95</td>\n",
       "      <td>B</td>\n",
       "      <td>10+ years</td>\n",
       "      <td>RENT</td>\n",
       "      <td>200000.0</td>\n",
       "      <td>Fully Paid</td>\n",
       "      <td>6.25</td>\n",
       "      <td>0.0</td>\n",
       "      <td>...</td>\n",
       "      <td>0.0</td>\n",
       "      <td>0.0</td>\n",
       "      <td>0.0</td>\n",
       "      <td>16130.42</td>\n",
       "      <td>0.0</td>\n",
       "      <td>Individual</td>\n",
       "      <td>0.0</td>\n",
       "      <td>0.0</td>\n",
       "      <td>19428.0</td>\n",
       "      <td>19700.0</td>\n",
       "    </tr>\n",
       "  </tbody>\n",
       "</table>\n",
       "<p>226067 rows × 31 columns</p>\n",
       "</div>"
      ],
      "text/plain": [
       "        loan_amnt  int_rate  installment grade emp_length home_ownership  \\\n",
       "0           18600     10.99       608.86     B    6 years           RENT   \n",
       "1            2000     17.97        72.28     D    4 years       MORTGAGE   \n",
       "2           12000     12.29       400.24     C  10+ years            OWN   \n",
       "3           16000     19.42       589.90     D    7 years           RENT   \n",
       "4           22525     16.02       548.01     C  10+ years       MORTGAGE   \n",
       "...           ...       ...          ...   ...        ...            ...   \n",
       "226062       5000      7.21       154.87     A    3 years           RENT   \n",
       "226063      35000     21.85       963.68     D   < 1 year       MORTGAGE   \n",
       "226064       1200     18.99        43.99     D     1 year           RENT   \n",
       "226065      12000      8.90       381.04     A   < 1 year            OWN   \n",
       "226066      20000      8.24       628.95     B  10+ years           RENT   \n",
       "\n",
       "        annual_inc loan_status    dti  delinq_2yrs  ...  total_rec_late_fee  \\\n",
       "0          80000.0  Fully Paid  12.92          0.0  ...                 0.0   \n",
       "1          55400.0     Current  10.62          1.0  ...                 0.0   \n",
       "2          60000.0  Fully Paid  17.92          0.0  ...                 0.0   \n",
       "3          64000.0     Current   3.90          1.0  ...                 0.0   \n",
       "4          94080.0  Fully Paid  19.08          1.0  ...                 0.0   \n",
       "...            ...         ...    ...          ...  ...                 ...   \n",
       "226062     46000.0     Current  19.44          0.0  ...                 0.0   \n",
       "226063     70000.0     Current  15.50          0.0  ...                 0.0   \n",
       "226064     90000.0  Fully Paid  23.15          0.0  ...                 0.0   \n",
       "226065     35000.0  Fully Paid  25.38          1.0  ...                 0.0   \n",
       "226066    200000.0  Fully Paid   6.25          0.0  ...                 0.0   \n",
       "\n",
       "        recoveries  collection_recovery_fee  last_pymnt_amnt  \\\n",
       "0              0.0                      0.0         15705.09   \n",
       "1              0.0                      0.0            72.28   \n",
       "2              0.0                      0.0         11281.15   \n",
       "3              0.0                      0.0           589.90   \n",
       "4              0.0                      0.0         21483.11   \n",
       "...            ...                      ...              ...   \n",
       "226062         0.0                      0.0           154.87   \n",
       "226063         0.0                      0.0           963.68   \n",
       "226064         0.0                      0.0          1197.23   \n",
       "226065         0.0                      0.0          9983.17   \n",
       "226066         0.0                      0.0         16130.42   \n",
       "\n",
       "        collections_12_mths_ex_med  application_type  acc_now_delinq  \\\n",
       "0                              0.0        Individual             0.0   \n",
       "1                              0.0         Joint App             0.0   \n",
       "2                              0.0        Individual             0.0   \n",
       "3                              0.0        Individual             0.0   \n",
       "4                              0.0        Individual             0.0   \n",
       "...                            ...               ...             ...   \n",
       "226062                         0.0        Individual             0.0   \n",
       "226063                         0.0        Individual             0.0   \n",
       "226064                         0.0        Individual             0.0   \n",
       "226065                         0.0        Individual             0.0   \n",
       "226066                         0.0        Individual             0.0   \n",
       "\n",
       "        tot_coll_amt  tot_cur_bal  total_rev_hi_lim  \n",
       "0                0.0     170238.0           20700.0  \n",
       "1               74.0     351452.0           10800.0  \n",
       "2                0.0      18207.0           20600.0  \n",
       "3                0.0      12293.0            7800.0  \n",
       "4              250.0     571244.0           53800.0  \n",
       "...              ...          ...               ...  \n",
       "226062        5618.0      37430.0           20200.0  \n",
       "226063           0.0     217083.0            9800.0  \n",
       "226064           0.0      76125.0           42100.0  \n",
       "226065           0.0      26386.0           43300.0  \n",
       "226066           0.0      19428.0           19700.0  \n",
       "\n",
       "[226067 rows x 31 columns]"
      ]
     },
     "execution_count": 110,
     "metadata": {},
     "output_type": "execute_result"
    }
   ],
   "source": [
    "train_data"
   ]
  },
  {
   "cell_type": "markdown",
   "id": "119a403c-e0e8-4659-bb6e-266973835468",
   "metadata": {},
   "source": [
    "# converting categorical variable into continius variable train data "
   ]
  },
  {
   "cell_type": "code",
   "execution_count": 111,
   "id": "af736c5b-5f6a-4ef8-9bdc-b5d1fdf2e504",
   "metadata": {},
   "outputs": [],
   "source": [
    "# converting categorical variable into continius variable\n",
    "\n",
    "\n",
    "grade_mapping = {'A': 1, 'B': 2, 'C': 3, 'D': 4, 'E': 5, 'F': 6, 'G': 7}\n",
    "emp_length_mapping = {\n",
    "    '< 1 year': 0.5,\n",
    "    '1 year': 1,\n",
    "    '2 years': 2,\n",
    "    '3 years': 3,\n",
    "    '4 years': 4,\n",
    "    '5 years': 5,\n",
    "    '6 years': 6,\n",
    "    '7 years': 7,\n",
    "    '8 years': 8,\n",
    "    '9 years': 9,\n",
    "    '10+ years': 10\n",
    "}\n",
    "\n",
    "train_data['grade'] = train_data['grade'].map(grade_mapping)\n",
    "train_data['emp_length'] = train_data['emp_length'].map(emp_length_mapping)\n",
    "\n",
    "\n"
   ]
  },
  {
   "cell_type": "code",
   "execution_count": 112,
   "id": "a26b086e-2211-4116-a843-17380a91c371",
   "metadata": {},
   "outputs": [
    {
     "data": {
      "text/plain": [
       "loan_amnt                     0\n",
       "int_rate                      0\n",
       "installment                   0\n",
       "grade                         0\n",
       "emp_length                    0\n",
       "home_ownership                0\n",
       "annual_inc                    0\n",
       "loan_status                   0\n",
       "dti                           0\n",
       "delinq_2yrs                   0\n",
       "inq_last_6mths                0\n",
       "mths_since_last_delinq        0\n",
       "open_acc                      0\n",
       "pub_rec                       0\n",
       "revol_bal                     0\n",
       "revol_util                    0\n",
       "total_acc                     0\n",
       "total_pymnt                   0\n",
       "total_pymnt_inv               0\n",
       "total_rec_prncp               0\n",
       "total_rec_int                 0\n",
       "total_rec_late_fee            0\n",
       "recoveries                    0\n",
       "collection_recovery_fee       0\n",
       "last_pymnt_amnt               0\n",
       "collections_12_mths_ex_med    0\n",
       "application_type              0\n",
       "acc_now_delinq                0\n",
       "tot_coll_amt                  0\n",
       "tot_cur_bal                   0\n",
       "total_rev_hi_lim              0\n",
       "dtype: int64"
      ]
     },
     "execution_count": 112,
     "metadata": {},
     "output_type": "execute_result"
    }
   ],
   "source": [
    "train_data.isnull().sum()"
   ]
  },
  {
   "cell_type": "markdown",
   "id": "07440d2c-c3ad-41cb-a8cf-0a27472f049c",
   "metadata": {},
   "source": [
    "### Cleaning $$TEST-DATA$$"
   ]
  },
  {
   "cell_type": "code",
   "execution_count": 113,
   "id": "bbead5c7-a37a-423a-aaa0-ae831ba1d9b2",
   "metadata": {},
   "outputs": [
    {
     "name": "stdout",
     "output_type": "stream",
     "text": [
      "<class 'pandas.core.frame.DataFrame'>\n",
      "RangeIndex: 226067 entries, 0 to 226066\n",
      "Data columns (total 33 columns):\n",
      " #   Column                      Non-Null Count   Dtype  \n",
      "---  ------                      --------------   -----  \n",
      " 0   id                          0 non-null       float64\n",
      " 1   member_id                   0 non-null       float64\n",
      " 2   loan_amnt                   226067 non-null  int64  \n",
      " 3   int_rate                    226067 non-null  float64\n",
      " 4   installment                 226067 non-null  float64\n",
      " 5   grade                       226067 non-null  object \n",
      " 6   emp_length                  211268 non-null  object \n",
      " 7   home_ownership              226067 non-null  object \n",
      " 8   annual_inc                  226066 non-null  float64\n",
      " 9   loan_status                 226067 non-null  object \n",
      " 10  dti                         225893 non-null  float64\n",
      " 11  delinq_2yrs                 226062 non-null  float64\n",
      " 12  inq_last_6mths              226061 non-null  float64\n",
      " 13  mths_since_last_delinq      110068 non-null  float64\n",
      " 14  open_acc                    226062 non-null  float64\n",
      " 15  pub_rec                     226062 non-null  float64\n",
      " 16  revol_bal                   226067 non-null  int64  \n",
      " 17  revol_util                  225908 non-null  float64\n",
      " 18  total_acc                   226062 non-null  float64\n",
      " 19  total_pymnt                 226067 non-null  float64\n",
      " 20  total_pymnt_inv             226067 non-null  float64\n",
      " 21  total_rec_prncp             226067 non-null  float64\n",
      " 22  total_rec_int               226067 non-null  float64\n",
      " 23  total_rec_late_fee          226067 non-null  float64\n",
      " 24  recoveries                  226067 non-null  float64\n",
      " 25  collection_recovery_fee     226067 non-null  float64\n",
      " 26  last_pymnt_amnt             226067 non-null  float64\n",
      " 27  collections_12_mths_ex_med  226045 non-null  float64\n",
      " 28  application_type            226067 non-null  object \n",
      " 29  acc_now_delinq              226062 non-null  float64\n",
      " 30  tot_coll_amt                219040 non-null  float64\n",
      " 31  tot_cur_bal                 219040 non-null  float64\n",
      " 32  total_rev_hi_lim            219040 non-null  float64\n",
      "dtypes: float64(26), int64(2), object(5)\n",
      "memory usage: 56.9+ MB\n"
     ]
    }
   ],
   "source": [
    "test_data.info()"
   ]
  },
  {
   "cell_type": "code",
   "execution_count": 114,
   "id": "cfb72062-9614-4262-8ca9-82da350480e2",
   "metadata": {},
   "outputs": [
    {
     "data": {
      "text/plain": [
       "id                            226067\n",
       "member_id                     226067\n",
       "loan_amnt                          0\n",
       "int_rate                           0\n",
       "installment                        0\n",
       "grade                              0\n",
       "emp_length                     14799\n",
       "home_ownership                     0\n",
       "annual_inc                         1\n",
       "loan_status                        0\n",
       "dti                              174\n",
       "delinq_2yrs                        5\n",
       "inq_last_6mths                     6\n",
       "mths_since_last_delinq        115999\n",
       "open_acc                           5\n",
       "pub_rec                            5\n",
       "revol_bal                          0\n",
       "revol_util                       159\n",
       "total_acc                          5\n",
       "total_pymnt                        0\n",
       "total_pymnt_inv                    0\n",
       "total_rec_prncp                    0\n",
       "total_rec_int                      0\n",
       "total_rec_late_fee                 0\n",
       "recoveries                         0\n",
       "collection_recovery_fee            0\n",
       "last_pymnt_amnt                    0\n",
       "collections_12_mths_ex_med        22\n",
       "application_type                   0\n",
       "acc_now_delinq                     5\n",
       "tot_coll_amt                    7027\n",
       "tot_cur_bal                     7027\n",
       "total_rev_hi_lim                7027\n",
       "dtype: int64"
      ]
     },
     "execution_count": 114,
     "metadata": {},
     "output_type": "execute_result"
    }
   ],
   "source": [
    "test_data.isnull().sum()"
   ]
  },
  {
   "cell_type": "code",
   "execution_count": 115,
   "id": "151c75fc-b7cb-4eb2-a8e1-b9b4a458d69c",
   "metadata": {},
   "outputs": [
    {
     "data": {
      "text/plain": [
       "dti\n",
       "0.00      177\n",
       "14.40     153\n",
       "16.80     150\n",
       "12.00     146\n",
       "13.20     146\n",
       "         ... \n",
       "44.59       1\n",
       "41.67       1\n",
       "107.01      1\n",
       "48.56       1\n",
       "61.33       1\n",
       "Name: count, Length: 5858, dtype: int64"
      ]
     },
     "execution_count": 115,
     "metadata": {},
     "output_type": "execute_result"
    }
   ],
   "source": [
    "test_data.dti.value_counts()"
   ]
  },
  {
   "cell_type": "code",
   "execution_count": 116,
   "id": "f6f35a74-21ef-45ea-b7d9-e23b9eba10d1",
   "metadata": {},
   "outputs": [],
   "source": [
    "test_data.dti=test_data.dti.fillna(test_data.dti.median())"
   ]
  },
  {
   "cell_type": "code",
   "execution_count": 117,
   "id": "75563816-4488-4454-8a0e-09e86033de1b",
   "metadata": {},
   "outputs": [
    {
     "data": {
      "text/plain": [
       "0"
      ]
     },
     "execution_count": 117,
     "metadata": {},
     "output_type": "execute_result"
    }
   ],
   "source": [
    "test_data.dti.isnull().sum()"
   ]
  },
  {
   "cell_type": "code",
   "execution_count": 118,
   "id": "87b2402f-c9c0-4fe5-a387-ef57d8bcb6bf",
   "metadata": {},
   "outputs": [
    {
     "data": {
      "text/plain": [
       "115999"
      ]
     },
     "execution_count": 118,
     "metadata": {},
     "output_type": "execute_result"
    }
   ],
   "source": [
    "test_data.mths_since_last_delinq.isnull().sum()"
   ]
  },
  {
   "cell_type": "code",
   "execution_count": 119,
   "id": "981117b3-034e-4de8-bcd6-425dcb32200e",
   "metadata": {},
   "outputs": [],
   "source": [
    "test_data.mths_since_last_delinq=test_data.mths_since_last_delinq.fillna(test_data.mths_since_last_delinq.median())"
   ]
  },
  {
   "cell_type": "code",
   "execution_count": 120,
   "id": "e06af1eb-beb5-4483-9ce7-0118852283be",
   "metadata": {},
   "outputs": [
    {
     "data": {
      "text/plain": [
       "0"
      ]
     },
     "execution_count": 120,
     "metadata": {},
     "output_type": "execute_result"
    }
   ],
   "source": [
    "test_data.mths_since_last_delinq.isnull().sum()"
   ]
  },
  {
   "cell_type": "code",
   "execution_count": 121,
   "id": "0669fdc7-c2c6-498d-a714-c1098e6b9f27",
   "metadata": {},
   "outputs": [],
   "source": [
    "test_data.revol_util=test_data.revol_util.fillna(test_data.revol_util.median())"
   ]
  },
  {
   "cell_type": "code",
   "execution_count": 122,
   "id": "9971a235-3082-4d6c-98d3-51300b206935",
   "metadata": {},
   "outputs": [
    {
     "data": {
      "text/plain": [
       "0"
      ]
     },
     "execution_count": 122,
     "metadata": {},
     "output_type": "execute_result"
    }
   ],
   "source": [
    "test_data.revol_util.isnull().sum()"
   ]
  },
  {
   "cell_type": "code",
   "execution_count": 123,
   "id": "d7515fe3-b18c-438b-823a-806c8a44ad8f",
   "metadata": {},
   "outputs": [],
   "source": [
    "test_data = test_data.drop(columns=[\"id\",\"member_id\"])"
   ]
  },
  {
   "cell_type": "code",
   "execution_count": 124,
   "id": "82329291-a579-4e31-abfa-1ba1f5a9dbc4",
   "metadata": {},
   "outputs": [],
   "source": [
    "test_data.emp_length =test_data.emp_length.fillna(test_data.emp_length.mode()[0])"
   ]
  },
  {
   "cell_type": "code",
   "execution_count": 125,
   "id": "a5867e6b-af77-4913-8b55-cf508eb634f9",
   "metadata": {},
   "outputs": [
    {
     "data": {
      "text/plain": [
       "0"
      ]
     },
     "execution_count": 125,
     "metadata": {},
     "output_type": "execute_result"
    }
   ],
   "source": [
    "test_data.emp_length.isnull().sum()"
   ]
  },
  {
   "cell_type": "code",
   "execution_count": 126,
   "id": "0e676855-8e21-4711-bb87-baed8f5b971e",
   "metadata": {},
   "outputs": [
    {
     "data": {
      "text/plain": [
       "loan_amnt                        0\n",
       "int_rate                         0\n",
       "installment                      0\n",
       "grade                            0\n",
       "emp_length                       0\n",
       "home_ownership                   0\n",
       "annual_inc                       1\n",
       "loan_status                      0\n",
       "dti                              0\n",
       "delinq_2yrs                      5\n",
       "inq_last_6mths                   6\n",
       "mths_since_last_delinq           0\n",
       "open_acc                         5\n",
       "pub_rec                          5\n",
       "revol_bal                        0\n",
       "revol_util                       0\n",
       "total_acc                        5\n",
       "total_pymnt                      0\n",
       "total_pymnt_inv                  0\n",
       "total_rec_prncp                  0\n",
       "total_rec_int                    0\n",
       "total_rec_late_fee               0\n",
       "recoveries                       0\n",
       "collection_recovery_fee          0\n",
       "last_pymnt_amnt                  0\n",
       "collections_12_mths_ex_med      22\n",
       "application_type                 0\n",
       "acc_now_delinq                   5\n",
       "tot_coll_amt                  7027\n",
       "tot_cur_bal                   7027\n",
       "total_rev_hi_lim              7027\n",
       "dtype: int64"
      ]
     },
     "execution_count": 126,
     "metadata": {},
     "output_type": "execute_result"
    }
   ],
   "source": [
    "test_data.isnull().sum()"
   ]
  },
  {
   "cell_type": "code",
   "execution_count": 127,
   "id": "08e33291-49ff-4be5-be84-b65c25e512ac",
   "metadata": {},
   "outputs": [],
   "source": [
    "test_data.delinq_2yrs=test_data.delinq_2yrs.fillna(test_data.delinq_2yrs.mean())"
   ]
  },
  {
   "cell_type": "code",
   "execution_count": 128,
   "id": "9e8093aa-c54b-4738-bc05-63399e547d12",
   "metadata": {},
   "outputs": [
    {
     "data": {
      "text/plain": [
       "0"
      ]
     },
     "execution_count": 128,
     "metadata": {},
     "output_type": "execute_result"
    }
   ],
   "source": [
    "test_data.delinq_2yrs.isnull().sum()"
   ]
  },
  {
   "cell_type": "code",
   "execution_count": 129,
   "id": "52a91225-9039-4927-a1a4-56e3fdde67ba",
   "metadata": {},
   "outputs": [
    {
     "data": {
      "text/plain": [
       "loan_amnt                        0\n",
       "int_rate                         0\n",
       "installment                      0\n",
       "grade                            0\n",
       "emp_length                       0\n",
       "home_ownership                   0\n",
       "annual_inc                       1\n",
       "loan_status                      0\n",
       "dti                              0\n",
       "delinq_2yrs                      0\n",
       "inq_last_6mths                   6\n",
       "mths_since_last_delinq           0\n",
       "open_acc                         5\n",
       "pub_rec                          5\n",
       "revol_bal                        0\n",
       "revol_util                       0\n",
       "total_acc                        5\n",
       "total_pymnt                      0\n",
       "total_pymnt_inv                  0\n",
       "total_rec_prncp                  0\n",
       "total_rec_int                    0\n",
       "total_rec_late_fee               0\n",
       "recoveries                       0\n",
       "collection_recovery_fee          0\n",
       "last_pymnt_amnt                  0\n",
       "collections_12_mths_ex_med      22\n",
       "application_type                 0\n",
       "acc_now_delinq                   5\n",
       "tot_coll_amt                  7027\n",
       "tot_cur_bal                   7027\n",
       "total_rev_hi_lim              7027\n",
       "dtype: int64"
      ]
     },
     "execution_count": 129,
     "metadata": {},
     "output_type": "execute_result"
    }
   ],
   "source": [
    "test_data.isnull().sum()"
   ]
  },
  {
   "cell_type": "code",
   "execution_count": 130,
   "id": "0458a0df-0dfb-4b8f-b6c4-d71b3c2116c7",
   "metadata": {},
   "outputs": [],
   "source": [
    "test_data.inq_last_6mths=test_data.inq_last_6mths.fillna(test_data.inq_last_6mths.mean())"
   ]
  },
  {
   "cell_type": "code",
   "execution_count": 131,
   "id": "fffe02f3-418b-45c5-9803-66d49debc687",
   "metadata": {},
   "outputs": [],
   "source": [
    "test_data.open_acc=test_data.open_acc.fillna(test_data.open_acc.median())"
   ]
  },
  {
   "cell_type": "code",
   "execution_count": 132,
   "id": "cb424317-e745-4c3e-a158-cfcfded0dc71",
   "metadata": {},
   "outputs": [],
   "source": [
    "test_data.total_rev_hi_lim=test_data.total_rev_hi_lim.fillna(test_data.total_rev_hi_lim.median())"
   ]
  },
  {
   "cell_type": "code",
   "execution_count": 133,
   "id": "2835380c-bbcb-4530-99c5-725b5620c293",
   "metadata": {},
   "outputs": [],
   "source": [
    "test_data.tot_cur_bal=test_data.tot_cur_bal.fillna(test_data.tot_cur_bal.median())"
   ]
  },
  {
   "cell_type": "code",
   "execution_count": 134,
   "id": "0dff8523-e266-4cf3-970a-bfbbeb641bbf",
   "metadata": {},
   "outputs": [],
   "source": [
    "test_data.tot_coll_amt=test_data.tot_coll_amt.fillna(test_data.tot_coll_amt.median())"
   ]
  },
  {
   "cell_type": "code",
   "execution_count": 135,
   "id": "5eabe7a4-764c-4db5-a4df-2894727bd120",
   "metadata": {},
   "outputs": [],
   "source": [
    "test_data.acc_now_delinq=test_data.acc_now_delinq.fillna(test_data.acc_now_delinq.mean())"
   ]
  },
  {
   "cell_type": "code",
   "execution_count": 136,
   "id": "86b81475-99b8-404e-9f28-2e1f8afbf62a",
   "metadata": {},
   "outputs": [],
   "source": [
    "test_data.collections_12_mths_ex_med=test_data.collections_12_mths_ex_med.fillna(test_data.collections_12_mths_ex_med.mean())"
   ]
  },
  {
   "cell_type": "code",
   "execution_count": 137,
   "id": "cd0fd8ee-690f-44ab-ae4f-3f78407128f0",
   "metadata": {},
   "outputs": [],
   "source": [
    "test_data.pub_rec=test_data.pub_rec.fillna(test_data.pub_rec.mean())"
   ]
  },
  {
   "cell_type": "code",
   "execution_count": 138,
   "id": "f91f60f0-e7d1-4660-b611-e0bad3af8e39",
   "metadata": {},
   "outputs": [],
   "source": [
    "test_data.total_acc=test_data.total_acc.fillna(test_data.total_acc.median())"
   ]
  },
  {
   "cell_type": "code",
   "execution_count": 139,
   "id": "f9acbb88-be11-4daa-8a02-59ba0ae806e9",
   "metadata": {},
   "outputs": [
    {
     "data": {
      "text/plain": [
       "loan_amnt                     0\n",
       "int_rate                      0\n",
       "installment                   0\n",
       "grade                         0\n",
       "emp_length                    0\n",
       "home_ownership                0\n",
       "annual_inc                    1\n",
       "loan_status                   0\n",
       "dti                           0\n",
       "delinq_2yrs                   0\n",
       "inq_last_6mths                0\n",
       "mths_since_last_delinq        0\n",
       "open_acc                      0\n",
       "pub_rec                       0\n",
       "revol_bal                     0\n",
       "revol_util                    0\n",
       "total_acc                     0\n",
       "total_pymnt                   0\n",
       "total_pymnt_inv               0\n",
       "total_rec_prncp               0\n",
       "total_rec_int                 0\n",
       "total_rec_late_fee            0\n",
       "recoveries                    0\n",
       "collection_recovery_fee       0\n",
       "last_pymnt_amnt               0\n",
       "collections_12_mths_ex_med    0\n",
       "application_type              0\n",
       "acc_now_delinq                0\n",
       "tot_coll_amt                  0\n",
       "tot_cur_bal                   0\n",
       "total_rev_hi_lim              0\n",
       "dtype: int64"
      ]
     },
     "execution_count": 139,
     "metadata": {},
     "output_type": "execute_result"
    }
   ],
   "source": [
    "test_data.isnull().sum()"
   ]
  },
  {
   "cell_type": "code",
   "execution_count": 140,
   "id": "3bf7c836-935f-46ab-984f-327f3ea45128",
   "metadata": {},
   "outputs": [
    {
     "data": {
      "text/plain": [
       "0         False\n",
       "1         False\n",
       "2         False\n",
       "3         False\n",
       "4         False\n",
       "          ...  \n",
       "226062    False\n",
       "226063    False\n",
       "226064    False\n",
       "226065    False\n",
       "226066    False\n",
       "Name: annual_inc, Length: 226067, dtype: bool"
      ]
     },
     "execution_count": 140,
     "metadata": {},
     "output_type": "execute_result"
    }
   ],
   "source": [
    "test_data.annual_inc.isnull()"
   ]
  },
  {
   "cell_type": "code",
   "execution_count": 141,
   "id": "435bf7c0-6565-41bc-ac47-5d5c6ab93150",
   "metadata": {},
   "outputs": [],
   "source": [
    "test_data.annual_inc=test_data.annual_inc.fillna(test_data.annual_inc.median())"
   ]
  },
  {
   "cell_type": "code",
   "execution_count": 142,
   "id": "0dd7bc80-3800-47ca-8a05-b1394fe48da8",
   "metadata": {},
   "outputs": [
    {
     "data": {
      "text/plain": [
       "loan_amnt                     0\n",
       "int_rate                      0\n",
       "installment                   0\n",
       "grade                         0\n",
       "emp_length                    0\n",
       "home_ownership                0\n",
       "annual_inc                    0\n",
       "loan_status                   0\n",
       "dti                           0\n",
       "delinq_2yrs                   0\n",
       "inq_last_6mths                0\n",
       "mths_since_last_delinq        0\n",
       "open_acc                      0\n",
       "pub_rec                       0\n",
       "revol_bal                     0\n",
       "revol_util                    0\n",
       "total_acc                     0\n",
       "total_pymnt                   0\n",
       "total_pymnt_inv               0\n",
       "total_rec_prncp               0\n",
       "total_rec_int                 0\n",
       "total_rec_late_fee            0\n",
       "recoveries                    0\n",
       "collection_recovery_fee       0\n",
       "last_pymnt_amnt               0\n",
       "collections_12_mths_ex_med    0\n",
       "application_type              0\n",
       "acc_now_delinq                0\n",
       "tot_coll_amt                  0\n",
       "tot_cur_bal                   0\n",
       "total_rev_hi_lim              0\n",
       "dtype: int64"
      ]
     },
     "execution_count": 142,
     "metadata": {},
     "output_type": "execute_result"
    }
   ],
   "source": [
    "test_data.isnull().sum()"
   ]
  },
  {
   "cell_type": "markdown",
   "id": "8273b9da-9227-4f5d-a2b9-3a28a5223e15",
   "metadata": {},
   "source": [
    "# converting categorical variable into continius variable in test data "
   ]
  },
  {
   "cell_type": "code",
   "execution_count": 143,
   "id": "b3afd2b0-decc-44a7-b7f3-421030b475a0",
   "metadata": {},
   "outputs": [],
   "source": [
    "# converting categorical variable into continius variable\n",
    "\n",
    "\n",
    "grade_mapping = {'A': 1, 'B': 2, 'C': 3, 'D': 4, 'E': 5, 'F': 6, 'G': 7}\n",
    "emp_length_mapping = {\n",
    "    '< 1 year': 0.5,\n",
    "    '1 year': 1,\n",
    "    '2 years': 2,\n",
    "    '3 years': 3,\n",
    "    '4 years': 4,\n",
    "    '5 years': 5,\n",
    "    '6 years': 6,\n",
    "    '7 years': 7,\n",
    "    '8 years': 8,\n",
    "    '9 years': 9,\n",
    "    '10+ years': 10\n",
    "}\n",
    "\n",
    "test_data['grade'] = test_data['grade'].map(grade_mapping)\n",
    "test_data['emp_length'] = test_data['emp_length'].map(emp_length_mapping)\n"
   ]
  },
  {
   "cell_type": "markdown",
   "id": "75ba8c07-bc63-44bc-bf09-5b18a1757a84",
   "metadata": {},
   "source": [
    "## Creat a new variable \"y\" in train_data"
   ]
  },
  {
   "cell_type": "code",
   "execution_count": 144,
   "id": "c7f069da-72a3-425c-8b80-2cc7fc85227a",
   "metadata": {},
   "outputs": [],
   "source": [
    "train_data[\"y\"]=train_data.loan_status.apply(lambda x :  1 if x == 'Charged Off' else 0 )\n",
    "test_data[\"y\"]=test_data.loan_status.apply(lambda x :  1 if x == 'Charged Off' else 0 )"
   ]
  },
  {
   "cell_type": "markdown",
   "id": "05769dcc-bbd4-40a1-8ac8-834d0fd7136c",
   "metadata": {},
   "source": [
    "# 1.1 Linear Regression Model "
   ]
  },
  {
   "cell_type": "code",
   "execution_count": 145,
   "id": "202da763-ec0c-457a-9624-fdaffa26cc95",
   "metadata": {},
   "outputs": [],
   "source": [
    "train_data = train_data.drop(columns=['loan_status'])\n",
    "test_data = test_data.drop(columns=['loan_status'])"
   ]
  },
  {
   "cell_type": "code",
   "execution_count": 146,
   "id": "5877f77d-fa38-4650-8326-55807da5f330",
   "metadata": {},
   "outputs": [],
   "source": [
    "# Separate predictors and target variable\n",
    "X_train = train_data.drop(columns=['y'])\n",
    "y_train = train_data['y']\n",
    "X_test = test_data.drop(columns=['y'])\n",
    "y_test = test_data['y']\n",
    "X_train = X_train.head(20)\n",
    "y_train  = y_train.head(20)\n",
    "X_test = X_test.head(20)\n",
    "y_test = y_test.head(20)"
   ]
  },
  {
   "cell_type": "markdown",
   "id": "d8bffd71-759a-4398-a02c-af9ecd3a3366",
   "metadata": {},
   "source": [
    "### Identify Categorical and Numerical Columns"
   ]
  },
  {
   "cell_type": "code",
   "execution_count": 147,
   "id": "9f4ef2c1-e7a1-4dc0-babd-39848ccd7189",
   "metadata": {},
   "outputs": [],
   "source": [
    "categorical_cols = X_train.select_dtypes(include=['object']).columns\n",
    "numerical_cols = X_train.select_dtypes(exclude=['object']).columns"
   ]
  },
  {
   "cell_type": "markdown",
   "id": "e730fef1-7573-420b-b32f-3c8f07c203e4",
   "metadata": {},
   "source": [
    "### Preprocessing Pipeline"
   ]
  },
  {
   "cell_type": "code",
   "execution_count": 148,
   "id": "bdc33496-003c-472b-adfd-f1223704cdc7",
   "metadata": {},
   "outputs": [],
   "source": [
    "preprocessor = ColumnTransformer(\n",
    "    transformers=[\n",
    "        ('num', 'passthrough', numerical_cols),\n",
    "        ('cat', OneHotEncoder(handle_unknown='ignore'), categorical_cols)\n",
    "    ])\n"
   ]
  },
  {
   "cell_type": "code",
   "execution_count": 149,
   "id": "5c547bd2-0c3c-421b-8f6d-bc45ff539f3b",
   "metadata": {},
   "outputs": [
    {
     "name": "stdout",
     "output_type": "stream",
     "text": [
      "Linear Regression Training MSE: 5.120248943261626e-30\n",
      "Linear Regression Test MSE: 0.049999386477793305\n"
     ]
    }
   ],
   "source": [
    "# Create and train the model\n",
    "linear_model = Pipeline(steps=[('preprocessor', preprocessor),\n",
    "                               ('model', LinearRegression())])\n",
    "linear_model.fit(X_train, y_train)\n",
    "\n",
    "# Predict and calculate MSE\n",
    "train_predictions = linear_model.predict(X_train)\n",
    "test_predictions = linear_model.predict(X_test)\n",
    "\n",
    "l_train_mse = mean_squared_error(y_train, train_predictions)\n",
    "l_test_mse = mean_squared_error(y_test, test_predictions)\n",
    "\n",
    "print(\"Linear Regression Training MSE:\", l_train_mse)\n",
    "print(\"Linear Regression Test MSE:\", l_test_mse)\n"
   ]
  },
  {
   "cell_type": "markdown",
   "id": "0c80b509-cabb-4658-94c8-032a0eec5788",
   "metadata": {},
   "source": [
    "# 1.2 Ridge Regression"
   ]
  },
  {
   "cell_type": "code",
   "execution_count": 150,
   "id": "34c7f7ab-4f1a-4380-9be9-4d29d084c5c1",
   "metadata": {},
   "outputs": [
    {
     "name": "stdout",
     "output_type": "stream",
     "text": [
      "Best Ridge Regression Training MSE: 4.5211051419650384e-11\n",
      "Best Ridge Regression Test MSE: 0.04999975542616624\n"
     ]
    }
   ],
   "source": [
    "# Explore values of λ\n",
    "lambdas = np.arange(0.01, 3.01, 0.01)\n",
    "best_model = None\n",
    "best_train_mse = float('inf')\n",
    "best_test_mse = float('inf')\n",
    "\n",
    "for l in lambdas:\n",
    "    ridge_model = Pipeline(steps=[('preprocessor', preprocessor),\n",
    "                                  ('model', Ridge(alpha=l))])\n",
    "    ridge_model.fit(X_train, y_train)\n",
    "    \n",
    "    train_predictions = ridge_model.predict(X_train)\n",
    "    test_predictions = ridge_model.predict(X_test)\n",
    "    \n",
    "    train_mse = mean_squared_error(y_train, train_predictions)\n",
    "    test_mse = mean_squared_error(y_test, test_predictions)\n",
    "    \n",
    "    if test_mse < best_test_mse:\n",
    "        r_best_test_mse = test_mse\n",
    "        r_best_train_mse = train_mse\n",
    "        best_model = ridge_model\n",
    "\n",
    "print(\"Best Ridge Regression Training MSE:\", r_best_train_mse)\n",
    "print(\"Best Ridge Regression Test MSE:\", r_best_test_mse)\n"
   ]
  },
  {
   "cell_type": "markdown",
   "id": "fe8a44d2-cf67-48d8-beae-264b33969a0b",
   "metadata": {},
   "source": [
    "# 1.3 Lasso Regresion Model "
   ]
  },
  {
   "cell_type": "code",
   "execution_count": 156,
   "id": "409835e4-a294-41d7-8569-6931b6127956",
   "metadata": {},
   "outputs": [
    {
     "name": "stderr",
     "output_type": "stream",
     "text": [
      "C:\\Users\\muneeb ur rehman\\AppData\\Roaming\\Python\\Python312\\site-packages\\sklearn\\linear_model\\_coordinate_descent.py:697: ConvergenceWarning: Objective did not converge. You might want to increase the number of iterations, check the scale of the features or consider increasing regularisation. Duality gap: 1.235e-04, tolerance: 9.500e-05\n",
      "  model = cd_fast.enet_coordinate_descent(\n"
     ]
    },
    {
     "name": "stdout",
     "output_type": "stream",
     "text": [
      "Best Lasso Regression Lambda: 3.0\n",
      "Best Lasso Regression Training MSE: 6.584115154947355e-05\n",
      "Best Lasso Regression Test MSE: 0.04988445651187996\n"
     ]
    }
   ],
   "source": [
    "# Range of lambda values\n",
    "lambdas = np.arange(0.01, 3.01, 0.01)\n",
    "best_train_mse = float('inf')\n",
    "best_test_mse = float('inf')\n",
    "best_lambda = None\n",
    "best_model = None\n",
    "\n",
    "for l in lambdas:\n",
    "    # Create and train Lasso model\n",
    "    lasso_model = Pipeline(steps=[('preprocessor', preprocessor),\n",
    "                                  ('model', Lasso(alpha=l))])\n",
    "    lasso_model.fit(X_train, y_train)\n",
    "\n",
    "    # Predictions\n",
    "    train_predictions = lasso_model.predict(X_train)\n",
    "    test_predictions = lasso_model.predict(X_test)\n",
    "\n",
    "    # Calculate MSE\n",
    "    train_mse = mean_squared_error(y_train, train_predictions)\n",
    "    test_mse = mean_squared_error(y_test, test_predictions)\n",
    "\n",
    "    # Check if this is the best model so far\n",
    "    if test_mse < best_test_mse:\n",
    "        ll_best_test_mse = test_mse\n",
    "        ll_best_train_mse = train_mse\n",
    "        best_lambda = l\n",
    "        best_model = lasso_model\n",
    "\n",
    "print(\"Best Lasso Regression Lambda:\", best_lambda)\n",
    "print(\"Best Lasso Regression Training MSE:\", ll_best_train_mse)\n",
    "print(\"Best Lasso Regression Test MSE:\", ll_best_test_mse)"
   ]
  },
  {
   "cell_type": "markdown",
   "id": "2fb65d41-aebe-4788-a23d-906619349ad4",
   "metadata": {},
   "source": [
    "# 1.4 Random Forest "
   ]
  },
  {
   "cell_type": "code",
   "execution_count": 157,
   "id": "de7c42d0-c8a4-4996-973a-fb96bed5f74d",
   "metadata": {},
   "outputs": [
    {
     "name": "stdout",
     "output_type": "stream",
     "text": [
      "Random Forest Training MSE: 0.006244999999999999\n",
      "Random Forest Test MSE: 0.040955\n",
      "Random Forest Feature Importances: [0.         0.         0.         0.         0.         0.\n",
      " 0.         0.         0.         0.01492537 0.         0.13432836\n",
      " 0.         0.10447761 0.         0.         0.         0.02985075\n",
      " 0.         0.         0.34328358 0.37313433 0.         0.\n",
      " 0.         0.         0.         0.         0.         0.\n",
      " 0.         0.         0.        ]\n"
     ]
    }
   ],
   "source": [
    "# Fit Random Forest with default parameters and optionally tune hyperparameters\n",
    "rf_model = Pipeline(steps=[('preprocessor', preprocessor),\n",
    "                           ('model', RandomForestRegressor(n_estimators=100, random_state=42))])\n",
    "rf_model.fit(X_train, y_train)\n",
    "\n",
    "train_predictions = rf_model.predict(X_train)\n",
    "test_predictions = rf_model.predict(X_test)\n",
    "\n",
    "rf_train_mse = mean_squared_error(y_train, train_predictions)\n",
    "rf_test_mse = mean_squared_error(y_test, test_predictions)\n",
    "\n",
    "# Feature Importances\n",
    "rf_feature_importances = rf_model.named_steps['model'].feature_importances_\n",
    "\n",
    "print(\"Random Forest Training MSE:\", rf_train_mse)\n",
    "print(\"Random Forest Test MSE:\", rf_test_mse)\n",
    "print(\"Random Forest Feature Importances:\", rf_feature_importances)"
   ]
  },
  {
   "cell_type": "markdown",
   "id": "8592e1a4-0437-437a-bc65-d1b01b0baaef",
   "metadata": {},
   "source": [
    "# 1.5 Neural Network \n"
   ]
  },
  {
   "cell_type": "code",
   "execution_count": 158,
   "id": "0ec02a07-87e6-4b49-88e0-c42f7510a8f1",
   "metadata": {},
   "outputs": [
    {
     "name": "stdout",
     "output_type": "stream",
     "text": [
      "Neural Network Training MSE: 60203852.74096\n",
      "Neural Network Test MSE: 41017038.308935866\n",
      "\n",
      "We chose the MLPRegressor for the neural network model because it is a versatile and powerful algorithm for regression tasks. \n",
      "It allows us to specify different network architectures (e.g., number of layers and neurons) and activation functions, making it highly customizable.\n",
      "We also have control over various hyperparameters, such as the learning rate and regularization term, which can be fine-tuned to achieve the best performance.\n",
      "\n"
     ]
    }
   ],
   "source": [
    "# Create and train the Neural Network model\n",
    "nn_model = Pipeline(steps=[('preprocessor', preprocessor),\n",
    "                           ('model', MLPRegressor(max_iter=1000, random_state=42))])\n",
    "nn_model.fit(X_train, y_train)\n",
    "\n",
    "train_predictions = nn_model.predict(X_train)\n",
    "test_predictions = nn_model.predict(X_test)\n",
    "\n",
    "nn_train_mse = mean_squared_error(y_train, train_predictions)\n",
    "nn_test_mse = mean_squared_error(y_test, test_predictions)\n",
    "\n",
    "print(\"Neural Network Training MSE:\", nn_train_mse)\n",
    "print(\"Neural Network Test MSE:\", nn_test_mse)\n",
    "# Why we chose this particular Neural Network model\n",
    "explanation = \"\"\"\n",
    "We chose the MLPRegressor for the neural network model because it is a versatile and powerful algorithm for regression tasks. \n",
    "It allows us to specify different network architectures (e.g., number of layers and neurons) and activation functions, making it highly customizable.\n",
    "We also have control over various hyperparameters, such as the learning rate and regularization term, which can be fine-tuned to achieve the best performance.\n",
    "\"\"\"\n",
    "print(explanation)"
   ]
  },
  {
   "cell_type": "markdown",
   "id": "0aa41fda-2445-49d4-be59-cf44210df9e1",
   "metadata": {},
   "source": [
    "# 1.6 Evaluation "
   ]
  },
  {
   "cell_type": "code",
   "execution_count": 159,
   "id": "718ab6f8-2b5d-4de7-9d74-04729bf67e8d",
   "metadata": {},
   "outputs": [
    {
     "name": "stdout",
     "output_type": "stream",
     "text": [
      "Linear Regression Training MSE: 5.120248943261626e-30\n",
      "Linear Regression Test MSE: 0.049999386477793305\n",
      "Ridge Regression Training MSE: 4.5211051419650384e-11\n",
      "Ridge Regression Test MSE: 0.04999975542616624\n",
      "Lasso Regression Training MSE: 6.584115154947355e-05\n",
      "Lasso Regression Test MSE: 0.04988445651187996\n",
      "Random Forest Training MSE: 0.006244999999999999\n",
      "Random Forest Test MSE: 0.040955\n",
      "Random Forest Feature Importances: [0.         0.         0.         0.         0.         0.\n",
      " 0.         0.         0.         0.01492537 0.         0.13432836\n",
      " 0.         0.10447761 0.         0.         0.         0.02985075\n",
      " 0.         0.         0.34328358 0.37313433 0.         0.\n",
      " 0.         0.         0.         0.         0.         0.\n",
      " 0.         0.         0.        ]\n",
      "Neural Network Training MSE: 60203852.74096\n",
      "Neural Network Test MSE: 41017038.308935866\n",
      "\n",
      "Best Model Based on Test MSE:\n",
      "Model: Random Forest\n",
      "Test MSE: 0.040955\n"
     ]
    }
   ],
   "source": [
    "models_results = {\n",
    "    'Linear Regression': {\n",
    "        'train_mse': l_train_mse,\n",
    "        'test_mse': l_test_mse\n",
    "    },\n",
    "    'Ridge Regression': {\n",
    "        'train_mse': r_best_train_mse,\n",
    "        'test_mse': r_best_test_mse\n",
    "    },\n",
    "    'Lasso Regression': {\n",
    "        'train_mse': ll_best_train_mse,\n",
    "        'test_mse': ll_best_test_mse\n",
    "    },\n",
    "    'Random Forest': {\n",
    "        'train_mse': rf_train_mse,\n",
    "        'test_mse': rf_test_mse,\n",
    "        'feature_importances': rf_feature_importances\n",
    "    },\n",
    "    'Neural Network': {\n",
    "        'train_mse': nn_train_mse,\n",
    "        'test_mse': nn_test_mse\n",
    "    }\n",
    "}\n",
    "\n",
    "# Print results\n",
    "for model_name, results in models_results.items():\n",
    "    print(f\"{model_name} Training MSE:\", results['train_mse'])\n",
    "    print(f\"{model_name} Test MSE:\", results['test_mse'])\n",
    "    if 'feature_importances' in results:\n",
    "        print(f\"{model_name} Feature Importances:\", results['feature_importances'])\n",
    "\n",
    "# Identify the best model\n",
    "best_model = min(models_results.items(), key=lambda x: x[1]['test_mse'])\n",
    "print(\"\\nBest Model Based on Test MSE:\")\n",
    "print(f\"Model: {best_model[0]}\")\n",
    "print(f\"Test MSE: {best_model[1]['test_mse']}\")"
   ]
  },
  {
   "cell_type": "markdown",
   "id": "002f60ae-57a9-4649-ade7-a01d1ee9b3b8",
   "metadata": {},
   "source": [
    "# $$TASK -2 $$"
   ]
  },
  {
   "cell_type": "markdown",
   "id": "6aad4e82-b4cf-4eb5-8647-fcef64ab1d29",
   "metadata": {},
   "source": [
    "## 1. Introduction\n",
    "\n",
    "This report aims to predict loan defaults using various machine learning models. We explore and compare the performance of several models, including Linear Regression, Ridge Regression, Lasso Regression, Random Forest, and Neural Networks. The dataset contains multiple features related to borrowers and their loan statuses.\n",
    "\n",
    "## 2. Data Preparation\n",
    "\n",
    "### 2.1 Data Overview\n",
    "\n",
    "- **Dataset**: Contains information about borrowers and their loan statuses.\n",
    "- **Features**: Multiple predictor variables and a target variable, \"loan status\".\n",
    "\n",
    "### 2.2 Data Preprocessing\n",
    "\n",
    "- **Categorical Variables**: Encoded using One-Hot Encoding.\n",
    "- **Numerical Variables**: Handled as-is.\n",
    "- **Missing Values**: Treated as necessary.\n",
    "\n",
    "## 3. Model Implementation\n",
    "\n",
    "- 3.1 Linear Regression\n",
    "- 3.2 Ridge Regression\n",
    "- 3.3 Lasso Regression\n",
    "- 3.4 Random Forest\n",
    "- 3.5 Neural Network\n",
    "\n",
    "\n",
    "\n"
   ]
  },
  {
   "cell_type": "markdown",
   "id": "66cdebb3-be36-4b16-b10b-9cfd532b7801",
   "metadata": {},
   "source": [
    "# 4. Evaluation and Comparison\n",
    "4.1 Comparison of Models\n",
    "- Linear Regression: \n",
    "- Ridge Regression: \n",
    "- Lasso Regression: \n",
    "- Random Forest: \n",
    "- Neural Network: "
   ]
  },
  {
   "cell_type": "code",
   "execution_count": 160,
   "id": "b9dc60ef-f50f-4579-bba8-9d2eab9835c7",
   "metadata": {},
   "outputs": [
    {
     "name": "stdout",
     "output_type": "stream",
     "text": [
      "\n",
      "Best Model Based on Test MSE:\n",
      "Model: Random Forest\n",
      "Test MSE: 0.040955\n"
     ]
    }
   ],
   "source": [
    "print(\"\\nBest Model Based on Test MSE:\")\n",
    "print(f\"Model: {best_model[0]}\")\n",
    "print(f\"Test MSE: {best_model[1]['test_mse']}\")"
   ]
  },
  {
   "cell_type": "markdown",
   "id": "2442d11e-6a5c-4a71-89d6-21fc5c45950b",
   "metadata": {},
   "source": [
    "# 5.Variable Correlation "
   ]
  },
  {
   "cell_type": "markdown",
   "id": "0426cdec-0fda-4272-92f3-6743b0e83725",
   "metadata": {},
   "source": [
    "#### The 10 most correlated variables are\n",
    "- int_rate\n",
    "- dti\n",
    "- revol_util\n",
    "- installment\n",
    "- total_pymnt\n",
    "- total_rec_int\n",
    "- total_rec_late_fee\n",
    "- recoveries\n",
    "- collection_recovery_fee\n",
    "- loan_amnt\n",
    "#### The 10 least correlated variables are:\n",
    "- id\n",
    "- member_id\n",
    "- application_type\n",
    "- home_ownership\n",
    "- total_rec_prncp\n",
    "- collections_12_mths_ex_med\n",
    "- acc_now_delinq\n",
    "- tot_coll_amt\n",
    "- tot_cur_bal\n",
    "- total_rev_hi_lim"
   ]
  },
  {
   "cell_type": "markdown",
   "id": "ad0ee5f7-dac9-4a40-87a8-955ef1558489",
   "metadata": {},
   "source": [
    "# 6. Conclusion"
   ]
  },
  {
   "cell_type": "code",
   "execution_count": null,
   "id": "13fc9b57-4f4c-420b-9a8d-dcf37eaa77ed",
   "metadata": {},
   "outputs": [],
   "source": []
  }
 ],
 "metadata": {
  "kernelspec": {
   "display_name": "Python 3 (ipykernel)",
   "language": "python",
   "name": "python3"
  },
  "language_info": {
   "codemirror_mode": {
    "name": "ipython",
    "version": 3
   },
   "file_extension": ".py",
   "mimetype": "text/x-python",
   "name": "python",
   "nbconvert_exporter": "python",
   "pygments_lexer": "ipython3",
   "version": "3.12.4"
  },
  "widgets": {
   "application/vnd.jupyter.widget-state+json": {
    "state": {},
    "version_major": 2,
    "version_minor": 0
   }
  }
 },
 "nbformat": 4,
 "nbformat_minor": 5
}
